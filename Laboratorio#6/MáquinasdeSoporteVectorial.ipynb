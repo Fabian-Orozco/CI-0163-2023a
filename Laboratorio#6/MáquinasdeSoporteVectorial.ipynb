{
  "cells": [
    {
      "cell_type": "markdown",
      "metadata": {
        "id": "7MUqTCce_gyY"
      },
      "source": [
        "#Laboratorio #6: Máquinas de Soporte Vectorial\n",
        "UCR | ECCI | Análisis de Grandes Volúmenes de Datos - CI-0163 | I-2023  \n",
        "Fabián Orozco Chaves - B95690  \n",
        "Daniel Escobar Giraldo - C02748  \n",
        "\n",
        "## Support Vector Machines\n",
        "\n",
        "###Definiendo una Máquina de Soporte Vectorial\n",
        "\n",
        "Las máquinas de soporte vectorial (SVM, por sus siglas en inglés: Support Vector Machines) son un tipo de algoritmo que fue desarrollado por Vladimir Vapnik y su equipo a finales de la década de 1990.\n",
        "\n",
        "Una máquina de soporte vectorial (SVM) es un algoritmo de aprendizaje automático supervisado que se utiliza tanto para la clasificación como para la regresión. Su objetivo principal es encontrar un hiperplano en un espacio de características de alta dimensionalidad que permita separar o predecir los datos de manera óptima.\n",
        "\n",
        "En el contexto de clasificación, se busca encontrar un hiperplano que pueda separar las diferentes clases de datos de forma clara. Para ello, la SVM busca maximizar el margen entre el hiperplano y los puntos de datos más cercanos de cada clase, conocidos como vectores de soporte. Estos vectores de soporte son los puntos críticos que influyen en la posición y orientación del hiperplano y son fundamentales para la clasificación precisa.\n",
        "\n",
        "Además de los hiperplanos lineales, las SVM pueden utilizar una técnica llamada \"kernel trick\" o truco del kernel para mapear los datos de entrada a un espacio de mayor dimensionalidad donde sean más fácilmente separables. Esto permite a las SVM realizar clasificaciones no lineales al encontrar hiperplanos en espacios de características más complejos.\n",
        "\n",
        "En el contexto de regresión, las SVM buscan encontrar una función que pueda aproximar de manera óptima los valores continuos de salida. En lugar de separar las clases, se busca encontrar una curva o superficie que pase lo más cerca posible de los puntos de datos, minimizando el error de predicción.\n",
        "\n",
        "Para entrenar una SVM, se utiliza un conjunto de datos de entrenamiento etiquetado, donde cada ejemplo de entrenamiento está asociado con una clase o un valor de salida conocido. Durante el entrenamiento, la SVM ajusta los parámetros para encontrar el hiperplano o la función que mejor se ajuste a los datos y minimice el error.\n",
        "\n",
        "Algunas de las ventajas de las SVM incluyen su capacidad para manejar eficazmente datos en espacios de alta dimensionalidad, su robustez ante la presencia de ruido y su capacidad para generalizar bien a partir de un conjunto de entrenamiento limitado. Sin embargo, pueden ser computacionalmente costosas en términos de tiempo de entrenamiento y memoria requerida, especialmente para grandes conjuntos de datos."
      ]
    },
    {
      "cell_type": "markdown",
      "metadata": {
        "id": "XZnPfYGQBIGh"
      },
      "source": [
        "###Construcción de una Máquina de Soporte Vectorial para \n",
        "\n",
        "\n",
        "\n"
      ]
    },
    {
      "cell_type": "markdown",
      "metadata": {
        "id": "C8ngoSS3Blc9"
      },
      "source": [
        "Lo primero, importamos todas las bibliotecas necesarias para la creación de una máquina de soporte vectorial. En este caso y como en ocaciones pasadas, utilizaremos Python y Sklearn para el ejercicio:"
      ]
    },
    {
      "cell_type": "code",
      "execution_count": 1,
      "metadata": {
        "id": "0JrSnTXoBk0P"
      },
      "outputs": [],
      "source": [
        "from sklearn.svm import SVC\n",
        "from sklearn.metrics import accuracy_score\n",
        "from sklearn.model_selection import train_test_split\n",
        "from sklearn.preprocessing import StandardScaler\n",
        "from sklearn.metrics import mean_squared_error, r2_score\n",
        "import numpy as np\n",
        "import matplotlib.pyplot as plt\n",
        "from sklearn.preprocessing import StandardScaler\n",
        "import pandas as pd\n",
        "import io\n",
        "from matplotlib.colors import ListedColormap"
      ]
    },
    {
      "cell_type": "markdown",
      "metadata": {
        "id": "zXT8NiPXBkFs"
      },
      "source": [
        "En este ejemplo, asumimos que tienen un archivo de datos llamado 'train.csv' que contiene sus características (variables independientes) y una variable objetivo (variable dependiente) que deseas predecir. \n",
        "\n",
        "La función files.upload() en Python es una función proporcionada por la biblioteca google.colab cuando se ejecuta en Google Colab. Permite cargar archivos desde el sistema local al entorno de Colab.\n",
        "\n",
        "Cuando ejecutan files.upload(), se abrirá una ventana emergente en la que pueden seleccionar uno o varios archivos de tu sistema local para cargarlos en el entorno de Colab. Una vez que seleccionan los archivos y confirman la selección, los archivos se cargan en el entorno y están disponibles para su uso en tu notebook."
      ]
    },
    {
      "cell_type": "code",
      "execution_count": 2,
      "metadata": {
        "colab": {
          "base_uri": "https://localhost:8080/",
          "height": 73
        },
        "id": "bvRuUpiu-pm6",
        "outputId": "37b67560-efd6-4320-ad7f-aa5840196590"
      },
      "outputs": [
        {
          "output_type": "display_data",
          "data": {
            "text/plain": [
              "<IPython.core.display.HTML object>"
            ],
            "text/html": [
              "\n",
              "     <input type=\"file\" id=\"files-e7091383-2e30-4c08-a183-16cbd47fa149\" name=\"files[]\" multiple disabled\n",
              "        style=\"border:none\" />\n",
              "     <output id=\"result-e7091383-2e30-4c08-a183-16cbd47fa149\">\n",
              "      Upload widget is only available when the cell has been executed in the\n",
              "      current browser session. Please rerun this cell to enable.\n",
              "      </output>\n",
              "      <script>// Copyright 2017 Google LLC\n",
              "//\n",
              "// Licensed under the Apache License, Version 2.0 (the \"License\");\n",
              "// you may not use this file except in compliance with the License.\n",
              "// You may obtain a copy of the License at\n",
              "//\n",
              "//      http://www.apache.org/licenses/LICENSE-2.0\n",
              "//\n",
              "// Unless required by applicable law or agreed to in writing, software\n",
              "// distributed under the License is distributed on an \"AS IS\" BASIS,\n",
              "// WITHOUT WARRANTIES OR CONDITIONS OF ANY KIND, either express or implied.\n",
              "// See the License for the specific language governing permissions and\n",
              "// limitations under the License.\n",
              "\n",
              "/**\n",
              " * @fileoverview Helpers for google.colab Python module.\n",
              " */\n",
              "(function(scope) {\n",
              "function span(text, styleAttributes = {}) {\n",
              "  const element = document.createElement('span');\n",
              "  element.textContent = text;\n",
              "  for (const key of Object.keys(styleAttributes)) {\n",
              "    element.style[key] = styleAttributes[key];\n",
              "  }\n",
              "  return element;\n",
              "}\n",
              "\n",
              "// Max number of bytes which will be uploaded at a time.\n",
              "const MAX_PAYLOAD_SIZE = 100 * 1024;\n",
              "\n",
              "function _uploadFiles(inputId, outputId) {\n",
              "  const steps = uploadFilesStep(inputId, outputId);\n",
              "  const outputElement = document.getElementById(outputId);\n",
              "  // Cache steps on the outputElement to make it available for the next call\n",
              "  // to uploadFilesContinue from Python.\n",
              "  outputElement.steps = steps;\n",
              "\n",
              "  return _uploadFilesContinue(outputId);\n",
              "}\n",
              "\n",
              "// This is roughly an async generator (not supported in the browser yet),\n",
              "// where there are multiple asynchronous steps and the Python side is going\n",
              "// to poll for completion of each step.\n",
              "// This uses a Promise to block the python side on completion of each step,\n",
              "// then passes the result of the previous step as the input to the next step.\n",
              "function _uploadFilesContinue(outputId) {\n",
              "  const outputElement = document.getElementById(outputId);\n",
              "  const steps = outputElement.steps;\n",
              "\n",
              "  const next = steps.next(outputElement.lastPromiseValue);\n",
              "  return Promise.resolve(next.value.promise).then((value) => {\n",
              "    // Cache the last promise value to make it available to the next\n",
              "    // step of the generator.\n",
              "    outputElement.lastPromiseValue = value;\n",
              "    return next.value.response;\n",
              "  });\n",
              "}\n",
              "\n",
              "/**\n",
              " * Generator function which is called between each async step of the upload\n",
              " * process.\n",
              " * @param {string} inputId Element ID of the input file picker element.\n",
              " * @param {string} outputId Element ID of the output display.\n",
              " * @return {!Iterable<!Object>} Iterable of next steps.\n",
              " */\n",
              "function* uploadFilesStep(inputId, outputId) {\n",
              "  const inputElement = document.getElementById(inputId);\n",
              "  inputElement.disabled = false;\n",
              "\n",
              "  const outputElement = document.getElementById(outputId);\n",
              "  outputElement.innerHTML = '';\n",
              "\n",
              "  const pickedPromise = new Promise((resolve) => {\n",
              "    inputElement.addEventListener('change', (e) => {\n",
              "      resolve(e.target.files);\n",
              "    });\n",
              "  });\n",
              "\n",
              "  const cancel = document.createElement('button');\n",
              "  inputElement.parentElement.appendChild(cancel);\n",
              "  cancel.textContent = 'Cancel upload';\n",
              "  const cancelPromise = new Promise((resolve) => {\n",
              "    cancel.onclick = () => {\n",
              "      resolve(null);\n",
              "    };\n",
              "  });\n",
              "\n",
              "  // Wait for the user to pick the files.\n",
              "  const files = yield {\n",
              "    promise: Promise.race([pickedPromise, cancelPromise]),\n",
              "    response: {\n",
              "      action: 'starting',\n",
              "    }\n",
              "  };\n",
              "\n",
              "  cancel.remove();\n",
              "\n",
              "  // Disable the input element since further picks are not allowed.\n",
              "  inputElement.disabled = true;\n",
              "\n",
              "  if (!files) {\n",
              "    return {\n",
              "      response: {\n",
              "        action: 'complete',\n",
              "      }\n",
              "    };\n",
              "  }\n",
              "\n",
              "  for (const file of files) {\n",
              "    const li = document.createElement('li');\n",
              "    li.append(span(file.name, {fontWeight: 'bold'}));\n",
              "    li.append(span(\n",
              "        `(${file.type || 'n/a'}) - ${file.size} bytes, ` +\n",
              "        `last modified: ${\n",
              "            file.lastModifiedDate ? file.lastModifiedDate.toLocaleDateString() :\n",
              "                                    'n/a'} - `));\n",
              "    const percent = span('0% done');\n",
              "    li.appendChild(percent);\n",
              "\n",
              "    outputElement.appendChild(li);\n",
              "\n",
              "    const fileDataPromise = new Promise((resolve) => {\n",
              "      const reader = new FileReader();\n",
              "      reader.onload = (e) => {\n",
              "        resolve(e.target.result);\n",
              "      };\n",
              "      reader.readAsArrayBuffer(file);\n",
              "    });\n",
              "    // Wait for the data to be ready.\n",
              "    let fileData = yield {\n",
              "      promise: fileDataPromise,\n",
              "      response: {\n",
              "        action: 'continue',\n",
              "      }\n",
              "    };\n",
              "\n",
              "    // Use a chunked sending to avoid message size limits. See b/62115660.\n",
              "    let position = 0;\n",
              "    do {\n",
              "      const length = Math.min(fileData.byteLength - position, MAX_PAYLOAD_SIZE);\n",
              "      const chunk = new Uint8Array(fileData, position, length);\n",
              "      position += length;\n",
              "\n",
              "      const base64 = btoa(String.fromCharCode.apply(null, chunk));\n",
              "      yield {\n",
              "        response: {\n",
              "          action: 'append',\n",
              "          file: file.name,\n",
              "          data: base64,\n",
              "        },\n",
              "      };\n",
              "\n",
              "      let percentDone = fileData.byteLength === 0 ?\n",
              "          100 :\n",
              "          Math.round((position / fileData.byteLength) * 100);\n",
              "      percent.textContent = `${percentDone}% done`;\n",
              "\n",
              "    } while (position < fileData.byteLength);\n",
              "  }\n",
              "\n",
              "  // All done.\n",
              "  yield {\n",
              "    response: {\n",
              "      action: 'complete',\n",
              "    }\n",
              "  };\n",
              "}\n",
              "\n",
              "scope.google = scope.google || {};\n",
              "scope.google.colab = scope.google.colab || {};\n",
              "scope.google.colab._files = {\n",
              "  _uploadFiles,\n",
              "  _uploadFilesContinue,\n",
              "};\n",
              "})(self);\n",
              "</script> "
            ]
          },
          "metadata": {}
        },
        {
          "output_type": "stream",
          "name": "stdout",
          "text": [
            "Saving train.csv to train.csv\n"
          ]
        }
      ],
      "source": [
        "# Cargar los datos\n",
        "from google.colab import files\n",
        "uploadedTrain = files.upload()"
      ]
    },
    {
      "cell_type": "markdown",
      "metadata": {
        "id": "5iOe9tqKN6xB"
      },
      "source": [
        "Para leer los datos cargados, utilizaremos dos funciones conocidas de python:\n",
        "\n",
        "1. pd.read_csv(): Es una función proporcionada por la biblioteca Pandas en Python. Se utiliza para leer archivos CSV (Comma-Separated Values) y cargar los datos en un DataFrame de Pandas. Un archivo CSV contiene datos tabulares en forma de texto, donde cada línea representa una fila y los valores de cada fila están separados por comas u otros delimitadores.\n",
        "\n",
        "2. La función pd.read_csv() toma como argumento el nombre del archivo CSV o una ruta de archivo, y opcionalmente puede aceptar otros parámetros para configurar la forma en que los datos se leen y se cargan. Retorna un DataFrame de Pandas que te permite manipular y analizar los datos de manera conveniente en Python."
      ]
    },
    {
      "cell_type": "code",
      "execution_count": 3,
      "metadata": {
        "id": "0X5KTeugDq67"
      },
      "outputs": [],
      "source": [
        "#Leen los datos que subieron utilizando io y pandas, cuidado con los nombres de los csv\n",
        "dataEntrenamiento = pd.read_csv(io.BytesIO(uploadedTrain['train.csv']))"
      ]
    },
    {
      "cell_type": "markdown",
      "metadata": {
        "id": "fr1IlL5dBg65"
      },
      "source": [
        "Mostramos una vista general del dataset de entrenamiento y del de pruebas con .head():"
      ]
    },
    {
      "cell_type": "code",
      "execution_count": 4,
      "metadata": {
        "colab": {
          "base_uri": "https://localhost:8080/",
          "height": 280
        },
        "id": "yv2fJP76FAil",
        "outputId": "4a1d4297-0ff7-4fec-c440-c738b031e240"
      },
      "outputs": [
        {
          "output_type": "execute_result",
          "data": {
            "text/plain": [
              "   battery_power  blue  clock_speed  dual_sim  fc  four_g  int_memory  m_dep  \\\n",
              "0            842     0          2.2         0   1       0           7    0.6   \n",
              "1           1021     1          0.5         1   0       1          53    0.7   \n",
              "2            563     1          0.5         1   2       1          41    0.9   \n",
              "3            615     1          2.5         0   0       0          10    0.8   \n",
              "4           1821     1          1.2         0  13       1          44    0.6   \n",
              "\n",
              "   mobile_wt  n_cores  ...  px_height  px_width   ram  sc_h  sc_w  talk_time  \\\n",
              "0        188        2  ...         20       756  2549     9     7         19   \n",
              "1        136        3  ...        905      1988  2631    17     3          7   \n",
              "2        145        5  ...       1263      1716  2603    11     2          9   \n",
              "3        131        6  ...       1216      1786  2769    16     8         11   \n",
              "4        141        2  ...       1208      1212  1411     8     2         15   \n",
              "\n",
              "   three_g  touch_screen  wifi  price_range  \n",
              "0        0             0     1            1  \n",
              "1        1             1     0            2  \n",
              "2        1             1     0            2  \n",
              "3        1             0     0            2  \n",
              "4        1             1     0            1  \n",
              "\n",
              "[5 rows x 21 columns]"
            ],
            "text/html": [
              "\n",
              "  <div id=\"df-7ad7168e-3b6a-488d-9ab2-16ba3c74ae42\">\n",
              "    <div class=\"colab-df-container\">\n",
              "      <div>\n",
              "<style scoped>\n",
              "    .dataframe tbody tr th:only-of-type {\n",
              "        vertical-align: middle;\n",
              "    }\n",
              "\n",
              "    .dataframe tbody tr th {\n",
              "        vertical-align: top;\n",
              "    }\n",
              "\n",
              "    .dataframe thead th {\n",
              "        text-align: right;\n",
              "    }\n",
              "</style>\n",
              "<table border=\"1\" class=\"dataframe\">\n",
              "  <thead>\n",
              "    <tr style=\"text-align: right;\">\n",
              "      <th></th>\n",
              "      <th>battery_power</th>\n",
              "      <th>blue</th>\n",
              "      <th>clock_speed</th>\n",
              "      <th>dual_sim</th>\n",
              "      <th>fc</th>\n",
              "      <th>four_g</th>\n",
              "      <th>int_memory</th>\n",
              "      <th>m_dep</th>\n",
              "      <th>mobile_wt</th>\n",
              "      <th>n_cores</th>\n",
              "      <th>...</th>\n",
              "      <th>px_height</th>\n",
              "      <th>px_width</th>\n",
              "      <th>ram</th>\n",
              "      <th>sc_h</th>\n",
              "      <th>sc_w</th>\n",
              "      <th>talk_time</th>\n",
              "      <th>three_g</th>\n",
              "      <th>touch_screen</th>\n",
              "      <th>wifi</th>\n",
              "      <th>price_range</th>\n",
              "    </tr>\n",
              "  </thead>\n",
              "  <tbody>\n",
              "    <tr>\n",
              "      <th>0</th>\n",
              "      <td>842</td>\n",
              "      <td>0</td>\n",
              "      <td>2.2</td>\n",
              "      <td>0</td>\n",
              "      <td>1</td>\n",
              "      <td>0</td>\n",
              "      <td>7</td>\n",
              "      <td>0.6</td>\n",
              "      <td>188</td>\n",
              "      <td>2</td>\n",
              "      <td>...</td>\n",
              "      <td>20</td>\n",
              "      <td>756</td>\n",
              "      <td>2549</td>\n",
              "      <td>9</td>\n",
              "      <td>7</td>\n",
              "      <td>19</td>\n",
              "      <td>0</td>\n",
              "      <td>0</td>\n",
              "      <td>1</td>\n",
              "      <td>1</td>\n",
              "    </tr>\n",
              "    <tr>\n",
              "      <th>1</th>\n",
              "      <td>1021</td>\n",
              "      <td>1</td>\n",
              "      <td>0.5</td>\n",
              "      <td>1</td>\n",
              "      <td>0</td>\n",
              "      <td>1</td>\n",
              "      <td>53</td>\n",
              "      <td>0.7</td>\n",
              "      <td>136</td>\n",
              "      <td>3</td>\n",
              "      <td>...</td>\n",
              "      <td>905</td>\n",
              "      <td>1988</td>\n",
              "      <td>2631</td>\n",
              "      <td>17</td>\n",
              "      <td>3</td>\n",
              "      <td>7</td>\n",
              "      <td>1</td>\n",
              "      <td>1</td>\n",
              "      <td>0</td>\n",
              "      <td>2</td>\n",
              "    </tr>\n",
              "    <tr>\n",
              "      <th>2</th>\n",
              "      <td>563</td>\n",
              "      <td>1</td>\n",
              "      <td>0.5</td>\n",
              "      <td>1</td>\n",
              "      <td>2</td>\n",
              "      <td>1</td>\n",
              "      <td>41</td>\n",
              "      <td>0.9</td>\n",
              "      <td>145</td>\n",
              "      <td>5</td>\n",
              "      <td>...</td>\n",
              "      <td>1263</td>\n",
              "      <td>1716</td>\n",
              "      <td>2603</td>\n",
              "      <td>11</td>\n",
              "      <td>2</td>\n",
              "      <td>9</td>\n",
              "      <td>1</td>\n",
              "      <td>1</td>\n",
              "      <td>0</td>\n",
              "      <td>2</td>\n",
              "    </tr>\n",
              "    <tr>\n",
              "      <th>3</th>\n",
              "      <td>615</td>\n",
              "      <td>1</td>\n",
              "      <td>2.5</td>\n",
              "      <td>0</td>\n",
              "      <td>0</td>\n",
              "      <td>0</td>\n",
              "      <td>10</td>\n",
              "      <td>0.8</td>\n",
              "      <td>131</td>\n",
              "      <td>6</td>\n",
              "      <td>...</td>\n",
              "      <td>1216</td>\n",
              "      <td>1786</td>\n",
              "      <td>2769</td>\n",
              "      <td>16</td>\n",
              "      <td>8</td>\n",
              "      <td>11</td>\n",
              "      <td>1</td>\n",
              "      <td>0</td>\n",
              "      <td>0</td>\n",
              "      <td>2</td>\n",
              "    </tr>\n",
              "    <tr>\n",
              "      <th>4</th>\n",
              "      <td>1821</td>\n",
              "      <td>1</td>\n",
              "      <td>1.2</td>\n",
              "      <td>0</td>\n",
              "      <td>13</td>\n",
              "      <td>1</td>\n",
              "      <td>44</td>\n",
              "      <td>0.6</td>\n",
              "      <td>141</td>\n",
              "      <td>2</td>\n",
              "      <td>...</td>\n",
              "      <td>1208</td>\n",
              "      <td>1212</td>\n",
              "      <td>1411</td>\n",
              "      <td>8</td>\n",
              "      <td>2</td>\n",
              "      <td>15</td>\n",
              "      <td>1</td>\n",
              "      <td>1</td>\n",
              "      <td>0</td>\n",
              "      <td>1</td>\n",
              "    </tr>\n",
              "  </tbody>\n",
              "</table>\n",
              "<p>5 rows × 21 columns</p>\n",
              "</div>\n",
              "      <button class=\"colab-df-convert\" onclick=\"convertToInteractive('df-7ad7168e-3b6a-488d-9ab2-16ba3c74ae42')\"\n",
              "              title=\"Convert this dataframe to an interactive table.\"\n",
              "              style=\"display:none;\">\n",
              "        \n",
              "  <svg xmlns=\"http://www.w3.org/2000/svg\" height=\"24px\"viewBox=\"0 0 24 24\"\n",
              "       width=\"24px\">\n",
              "    <path d=\"M0 0h24v24H0V0z\" fill=\"none\"/>\n",
              "    <path d=\"M18.56 5.44l.94 2.06.94-2.06 2.06-.94-2.06-.94-.94-2.06-.94 2.06-2.06.94zm-11 1L8.5 8.5l.94-2.06 2.06-.94-2.06-.94L8.5 2.5l-.94 2.06-2.06.94zm10 10l.94 2.06.94-2.06 2.06-.94-2.06-.94-.94-2.06-.94 2.06-2.06.94z\"/><path d=\"M17.41 7.96l-1.37-1.37c-.4-.4-.92-.59-1.43-.59-.52 0-1.04.2-1.43.59L10.3 9.45l-7.72 7.72c-.78.78-.78 2.05 0 2.83L4 21.41c.39.39.9.59 1.41.59.51 0 1.02-.2 1.41-.59l7.78-7.78 2.81-2.81c.8-.78.8-2.07 0-2.86zM5.41 20L4 18.59l7.72-7.72 1.47 1.35L5.41 20z\"/>\n",
              "  </svg>\n",
              "      </button>\n",
              "      \n",
              "  <style>\n",
              "    .colab-df-container {\n",
              "      display:flex;\n",
              "      flex-wrap:wrap;\n",
              "      gap: 12px;\n",
              "    }\n",
              "\n",
              "    .colab-df-convert {\n",
              "      background-color: #E8F0FE;\n",
              "      border: none;\n",
              "      border-radius: 50%;\n",
              "      cursor: pointer;\n",
              "      display: none;\n",
              "      fill: #1967D2;\n",
              "      height: 32px;\n",
              "      padding: 0 0 0 0;\n",
              "      width: 32px;\n",
              "    }\n",
              "\n",
              "    .colab-df-convert:hover {\n",
              "      background-color: #E2EBFA;\n",
              "      box-shadow: 0px 1px 2px rgba(60, 64, 67, 0.3), 0px 1px 3px 1px rgba(60, 64, 67, 0.15);\n",
              "      fill: #174EA6;\n",
              "    }\n",
              "\n",
              "    [theme=dark] .colab-df-convert {\n",
              "      background-color: #3B4455;\n",
              "      fill: #D2E3FC;\n",
              "    }\n",
              "\n",
              "    [theme=dark] .colab-df-convert:hover {\n",
              "      background-color: #434B5C;\n",
              "      box-shadow: 0px 1px 3px 1px rgba(0, 0, 0, 0.15);\n",
              "      filter: drop-shadow(0px 1px 2px rgba(0, 0, 0, 0.3));\n",
              "      fill: #FFFFFF;\n",
              "    }\n",
              "  </style>\n",
              "\n",
              "      <script>\n",
              "        const buttonEl =\n",
              "          document.querySelector('#df-7ad7168e-3b6a-488d-9ab2-16ba3c74ae42 button.colab-df-convert');\n",
              "        buttonEl.style.display =\n",
              "          google.colab.kernel.accessAllowed ? 'block' : 'none';\n",
              "\n",
              "        async function convertToInteractive(key) {\n",
              "          const element = document.querySelector('#df-7ad7168e-3b6a-488d-9ab2-16ba3c74ae42');\n",
              "          const dataTable =\n",
              "            await google.colab.kernel.invokeFunction('convertToInteractive',\n",
              "                                                     [key], {});\n",
              "          if (!dataTable) return;\n",
              "\n",
              "          const docLinkHtml = 'Like what you see? Visit the ' +\n",
              "            '<a target=\"_blank\" href=https://colab.research.google.com/notebooks/data_table.ipynb>data table notebook</a>'\n",
              "            + ' to learn more about interactive tables.';\n",
              "          element.innerHTML = '';\n",
              "          dataTable['output_type'] = 'display_data';\n",
              "          await google.colab.output.renderOutput(dataTable, element);\n",
              "          const docLink = document.createElement('div');\n",
              "          docLink.innerHTML = docLinkHtml;\n",
              "          element.appendChild(docLink);\n",
              "        }\n",
              "      </script>\n",
              "    </div>\n",
              "  </div>\n",
              "  "
            ]
          },
          "metadata": {},
          "execution_count": 4
        }
      ],
      "source": [
        "dataEntrenamiento.head()"
      ]
    },
    {
      "cell_type": "markdown",
      "metadata": {
        "id": "kktoVOUwN8CQ"
      },
      "source": [
        "Vamos a usar .isnull().sum().max(): Esta secuencia de métodos se utiliza en Python para calcular la cantidad máxima de valores nulos (NaN) en un DataFrame de Pandas o en una Serie.\n",
        "\n",
        "1. .isnull() devuelve una matriz booleana del mismo tamaño que el DataFrame o Serie original, donde True indica que el valor es nulo (NaN) y False indica que no lo es.\n",
        "2. .sum() suma los valores booleanos en la matriz resultante. Como True se interpreta como 1 y False como 0, la suma nos da la cantidad total de valores nulos en cada columna o en la Serie.\n",
        "3. .max() devuelve el valor máximo de la suma de valores nulos.\n",
        "\n",
        "De tal manera podemos ver si hay algún valor faltante:"
      ]
    },
    {
      "cell_type": "code",
      "execution_count": 5,
      "metadata": {
        "colab": {
          "base_uri": "https://localhost:8080/"
        },
        "id": "hiSqbQCMFQYU",
        "outputId": "5956bf8c-b5a2-47a1-d201-f702e6111f33"
      },
      "outputs": [
        {
          "output_type": "stream",
          "name": "stdout",
          "text": [
            "0\n",
            "Index(['battery_power', 'blue', 'clock_speed', 'dual_sim', 'fc', 'four_g',\n",
            "       'int_memory', 'm_dep', 'mobile_wt', 'n_cores', 'pc', 'px_height',\n",
            "       'px_width', 'ram', 'sc_h', 'sc_w', 'talk_time', 'three_g',\n",
            "       'touch_screen', 'wifi', 'price_range'],\n",
            "      dtype='object')\n"
          ]
        }
      ],
      "source": [
        "print(dataEntrenamiento.isnull().sum().max())\n",
        "print(dataEntrenamiento.columns)"
      ]
    },
    {
      "cell_type": "markdown",
      "metadata": {
        "id": "oIBwJHv_N8cz"
      },
      "source": [
        "El valor de precio está 'hot-encoded', y en la vida real esto no sería de esta manera, por lo que utilizaremos describe() y unique() para entender mejor el valor:\n",
        "\n",
        "1. El método describe() se utiliza en Python para obtener estadísticas descriptivas de un DataFrame o una Serie de Pandas. Proporciona información resumida sobre la distribución de los datos, incluyendo el recuento de valores no nulos, la media, la desviación estándar, los valores mínimo y máximo, y los percentiles.\n",
        "\n",
        "2. El método unique() se utiliza en Python para obtener los valores únicos de una columna en un DataFrame o una Serie de Pandas. Retorna un arreglo que contiene los valores únicos presentes en la columna, en el orden en el que aparecen."
      ]
    },
    {
      "cell_type": "code",
      "execution_count": 6,
      "metadata": {
        "colab": {
          "base_uri": "https://localhost:8080/"
        },
        "id": "FQp1r9E3FY7I",
        "outputId": "b60f2b68-149c-4358-d427-d13a58eac8a9"
      },
      "outputs": [
        {
          "output_type": "execute_result",
          "data": {
            "text/plain": [
              "(count    2000.000000\n",
              " mean        1.500000\n",
              " std         1.118314\n",
              " min         0.000000\n",
              " 25%         0.750000\n",
              " 50%         1.500000\n",
              " 75%         2.250000\n",
              " max         3.000000\n",
              " Name: price_range, dtype: float64,\n",
              " array([1, 2, 3, 0]))"
            ]
          },
          "metadata": {},
          "execution_count": 6
        }
      ],
      "source": [
        "dataEntrenamiento['price_range'].describe(), dataEntrenamiento['price_range'].unique()"
      ]
    },
    {
      "cell_type": "markdown",
      "metadata": {
        "id": "sdKAmgIJN84o"
      },
      "source": [
        "Transformamos los valores de entrenamiento en un array para poder hacer un gráfico de los puntos separados por las clases del atributo `price range`"
      ]
    },
    {
      "cell_type": "code",
      "execution_count": 7,
      "metadata": {
        "colab": {
          "base_uri": "https://localhost:8080/"
        },
        "id": "1vku0CaiOQ6a",
        "outputId": "407f7238-fc84-41c3-d14c-845b406e7127"
      },
      "outputs": [
        {
          "output_type": "stream",
          "name": "stdout",
          "text": [
            "Shape of X:(2000, 2)\n",
            "Shape of y:(2000,)\n"
          ]
        }
      ],
      "source": [
        "# plotting the decision boundries for the data \n",
        "#converting the data to array for plotting. \n",
        "X = np.array(dataEntrenamiento.iloc[:,[0,13]])\n",
        "y = np.array(dataEntrenamiento['price_range'])\n",
        "print(\"Shape of X:\"+str(X.shape))\n",
        "print(\"Shape of y:\"+str(y.shape))\n",
        "\n",
        "scaler = StandardScaler()\n",
        "X = scaler.fit_transform(X)"
      ]
    },
    {
      "cell_type": "code",
      "execution_count": 8,
      "metadata": {
        "id": "FsxzhKe2OWtm"
      },
      "outputs": [],
      "source": [
        "#Aquí solo se utilizan colores específicos para los puntos, pueden cambiar entre las dos listas de colores en el gráfico\n",
        "cm_dark = ListedColormap(['#ff6060', '#8282ff','#ffaa00','#fff244','#4df9b9','#76e8fc','#3ad628'])\n",
        "cm_bright = ListedColormap(['#ffafaf', '#c6c6ff','#ffaa00','#ffe2a8','#bfffe7','#c9f7ff','#9eff93'])"
      ]
    },
    {
      "cell_type": "markdown",
      "metadata": {
        "id": "6M1_23QDR-Tm"
      },
      "source": [
        "`plot.scatter()`: Esta función se utiliza para crear un gráfico de dispersión, también conocido como diagrama de dispersión. Un gráfico de dispersión muestra la relación entre dos conjuntos de datos, donde cada punto en el gráfico representa un par de valores correspondientes a las variables independientes y dependientes.\n",
        "\n",
        "`show()`: Esta función se utiliza para mostrar los gráficos generados con matplotlib en una ventana o en un entorno interactivo. Una vez que has configurado y personalizado tu gráfico utilizando diferentes funciones de matplotlib, debes llamar a show() para que el gráfico se muestre."
      ]
    },
    {
      "cell_type": "code",
      "execution_count": 9,
      "metadata": {
        "colab": {
          "base_uri": "https://localhost:8080/",
          "height": 430
        },
        "id": "8Wk6QA9MOZ_l",
        "outputId": "935fcf00-48e1-4411-9844-8536f9b06fa5"
      },
      "outputs": [
        {
          "output_type": "display_data",
          "data": {
            "text/plain": [
              "<Figure size 640x480 with 1 Axes>"
            ],
            "image/png": "[encoded data removed]"
          },
          "metadata": {}
        }
      ],
      "source": [
        "plt.scatter(X[:,0],X[:,1],c=y,cmap=cm_dark,s=10,label=y)\n",
        "plt.show()"
      ]
    },
    {
      "cell_type": "markdown",
      "metadata": {
        "id": "h_wUpzW1SIFm"
      },
      "source": [
        "En Python, el módulo scikit-learn proporciona la implementación del algoritmo de Máquinas de Vectores de Soporte (SVM) a través de la clase SVC (Support Vector Classifier) para clasificación, que será el que usemos a continuación, y SVR (Support Vector Regressor) para regresión. Estas clases tienen varios parámetros y opciones para ajustar el comportamiento del modelo SVM. A continuación, se detallan los parámetros y opciones más comunes:\n",
        "\n",
        "1. C: Controla el factor de regularización. Un valor más alto de C indica un modelo con un ajuste más estricto a los datos de entrenamiento. Un valor más bajo de C permite un margen más grande y puede generar un modelo más generalizado. El valor predeterminado es 1.0.\n",
        "\n",
        "2. kernel: Especifica el tipo de kernel utilizado en el SVM. Algunas opciones comunes son:\n",
        "\n",
        " * \"linear\": Kernel lineal que utiliza el producto escalar estándar.\n",
        " * \"poly\": Kernel polinómico que utiliza una función polinómica de grado degree.\n",
        " * \"rbf\" (Radial Basis Function): Kernel de función de base radial que utiliza una función de distancia radial.\n",
        " * \"sigmoid\": Kernel sigmoide que utiliza una función sigmoide.\n",
        "\n",
        "3. degree (solo para kernel \"poly\"): Grado del polinomio en el kernel polinómico. El valor predeterminado es 3.\n",
        "\n",
        "4. gamma (coeficiente del kernel) (solo para kernel \"rbf\", \"poly\" y \"sigmoid\"): Controla el ajuste de los datos de entrenamiento. Valores más altos de gamma generan un ajuste más estricto y pueden llevar a un sobreajuste. Valores más bajos de gamma generan un ajuste más suave y pueden llevar a un subajuste. El valor predeterminado es \"scale\" y se calcula como 1 / (n_features * X.var()), donde n_features es el número de características y X.var() es la varianza de los datos de entrenamiento.\n",
        "\n",
        "5. coef0 (solo para kernel \"poly\" y \"sigmoid\"): Constante independiente en las funciones de kernel polinómico y sigmoide. El valor predeterminado es 0.0.\n",
        "\n",
        "Estos son solo algunos de los parámetros más comunes, pero hay otros disponibles. La elección de los parámetros depende del problema específico que estén abordando y puede requerir un ajuste y experimentación adecuados."
      ]
    },
    {
      "cell_type": "code",
      "execution_count": 10,
      "metadata": {
        "id": "nP9-tWDzGt-y"
      },
      "outputs": [],
      "source": [
        "# Crear el modelo de clasificación SVM\n",
        "svm_classifier = SVC(kernel='rbf', C=1.0)"
      ]
    },
    {
      "cell_type": "markdown",
      "metadata": {
        "id": "xLJ3IaHjG3OQ"
      },
      "source": [
        "Tomen en cuenta que la \"variable objetivo\" se refiere a la variable que desean predecir o clasificar. También se conoce como la \"variable de respuesta\" o \"variable dependiente\". En el caso de la clasificación, la variable objetivo suele ser una variable categórica o de etiqueta que representa las clases a las que pertenecen los datos de entrada.\n",
        "\n",
        " * Por ejemplo, si están trabajando en un problema de clasificación de correos electrónicos como \"spam\" o \"no spam\", la variable objetivo sería la etiqueta de clasificación que indica si un correo electrónico es spam o no. En este caso, la variable objetivo es una variable categórica binaria.\n",
        "\n",
        "```\n",
        "# Separar los datos en características (X) y variable objetivo (y)\n",
        "X = data.drop('target_variable', axis=1)  # Cambiar 'target_variable' por el nombre de tu variable objetivo\n",
        "y = data['target_variable']\n",
        "```\n",
        "El \"conjunto de características\" o \"conjunto de variables explicativas\" se refiere a las variables que se utilizan para predecir o clasificar la variable objetivo. Estas variables representan las características o atributos de los datos de entrada que se utilizarán para entrenar el modelo SVM.\n",
        "\n",
        " * Continuando con el ejemplo de clasificación de correos electrónicos, las características o variables explicativas pueden incluir el remitente del correo electrónico, el asunto, el contenido, la longitud del mensaje, etc. Estas características se utilizarán para construir el modelo SVM y realizar la clasificación de nuevos correos electrónicos.\n"
      ]
    },
    {
      "cell_type": "code",
      "execution_count": 11,
      "metadata": {
        "id": "gohwWfiIHMjD"
      },
      "outputs": [],
      "source": [
        "#Separar el conjunto de entrenamiento entre los conjuntos de características\n",
        "X = dataEntrenamiento.drop(['price_range'], axis=1)\n",
        "#Y la variable objetivo\n",
        "y = dataEntrenamiento['price_range']"
      ]
    },
    {
      "cell_type": "markdown",
      "metadata": {
        "id": "IeLWOYbeN-Jd"
      },
      "source": [
        "La función `train_test_split` en Python, que se encuentra en el módulo sklearn.model_selection de la biblioteca scikit-learn, se utiliza para dividir un conjunto de datos en conjuntos de entrenamiento y prueba. Esta función es ampliamente utilizada en el aprendizaje automático para evaluar el rendimiento de los modelos y evitar el sobreajuste."
      ]
    },
    {
      "cell_type": "code",
      "execution_count": 12,
      "metadata": {
        "id": "yYJ8pvGuHo2m"
      },
      "outputs": [],
      "source": [
        "# Dividir los datos en conjuntos de entrenamiento y prueba\n",
        "X_train, X_test, y_train, y_test = train_test_split(X, y, test_size=0.2, random_state=42)"
      ]
    },
    {
      "cell_type": "markdown",
      "metadata": {
        "id": "v8J80P9QVqvC"
      },
      "source": [
        "X representa el conjunto de características (variables explicativas) y y representa la variable objetivo. test_size indica el tamaño proporcional del conjunto de prueba (por ejemplo, 0.2 para el 20% del conjunto de datos), y random_state se utiliza para establecer una semilla aleatoria y garantizar la reproducibilidad de la división de datos.\n",
        "\n",
        "La función train_test_split devuelve cuatro conjuntos de datos: X_train, X_test, y_train y y_test. Los conjuntos X_train y y_train se utilizan para entrenar el modelo, mientras que los conjuntos X_test y y_test se utilizan para evaluar el rendimiento del modelo.\n",
        "\n",
        "La división realizada por train_test_split se realiza de forma aleatoria, lo que ayuda a garantizar que los conjuntos de entrenamiento y prueba sean representativos y no estén sesgados. Esto es importante para obtener resultados de evaluación confiables del modelo.\n",
        "\n",
        "Es importante tener en cuenta que train_test_split se utiliza principalmente para evaluación inicial de modelos. En situaciones más avanzadas, como la validación cruzada, se pueden utilizar técnicas más sofisticadas para obtener estimaciones más confiables del rendimiento del modelo."
      ]
    },
    {
      "cell_type": "markdown",
      "metadata": {
        "id": "6N-Of4Q3OCZg"
      },
      "source": [
        "En una máquina de soporte vectorial (SVM), es recomendable escalar los datos de entrenamiento y prueba por varias razones:\n",
        "\n",
        "1. Preservar la consistencia: Al escalar los datos, se asegura que todas las características tengan la misma escala y rango. Esto es importante porque los SVM calculan distancias y productos escalares entre los puntos de datos. Si las características no están en la misma escala, algunas características podrían tener un impacto desproporcionado en el modelo, lo que puede sesgar los resultados.\n",
        "\n",
        "2. Mejorar la convergencia: El proceso de optimización utilizado en los SVM para encontrar el hiperplano óptimo es más efectivo cuando las características están en una escala similar. Esto ayuda a que el algoritmo de optimización converja más rápido y de manera más confiable.\n",
        "\n",
        "3. Mitigar el impacto de valores atípicos: Al escalar los datos, los valores atípicos o extremos en una característica no tendrán un impacto desproporcionado en el modelo SVM. Esto es particularmente importante en SVM lineales, donde los puntos de datos más lejanos (vectores de soporte) influyen en la posición del hiperplano de decisión.\n",
        "\n",
        "4. Interpretación y comparación: Al escalar los datos, los coeficientes de los vectores de soporte pueden tener una interpretación más clara y directa. Además, también facilita la comparación de los efectos relativos de diferentes características en el modelo.\n",
        "\n",
        "Al escalar los datos, se debe aplicar la misma transformación tanto al conjunto de entrenamiento como al conjunto de prueba. Esto garantiza que los datos de prueba se ajusten correctamente al modelo entrenado.\n",
        "\n",
        "La escala más comúnmente utilizada es la normalización (también conocida como escalado a [0, 1]) o la estandarización (escala con media 0 y desviación estándar 1). La elección de la técnica de escala depende del contexto y de las características específicas de los datos.\n",
        "\n",
        "StandardScaler() en Python, es una clase del módulo sklearn.preprocessing de la biblioteca scikit-learn que se utiliza para estandarizar características numéricas al escalarlas a una media cero y una desviación estándar de uno. Este proceso de estandarización ayuda a garantizar que todas las características tengan la misma escala y es útil en varios algoritmos de aprendizaje automático, incluidos los SVM."
      ]
    },
    {
      "cell_type": "code",
      "execution_count": 13,
      "metadata": {
        "id": "MiiWkS5eIpxp"
      },
      "outputs": [],
      "source": [
        "# Escalar los datos\n",
        "cols = X_train.columns\n",
        "scaler = StandardScaler()\n",
        "X_train = scaler.fit_transform(X_train)\n",
        "X_test = scaler.transform(X_test)"
      ]
    },
    {
      "cell_type": "markdown",
      "metadata": {
        "id": "hKK0-6yFOCqZ"
      },
      "source": [
        "En un clasificador de máquinas de soporte vectorial (SVM), se utiliza un pd.DataFrame como una estructura de datos conveniente para almacenar y manipular los datos de entrada. Un pd.DataFrame es una estructura tabular bidimensional proporcionada por la biblioteca pandas en Python. Proporciona muchas funcionalidades útiles para trabajar con datos estructurados, como la indexación, filtrado, manipulación y agregación de datos."
      ]
    },
    {
      "cell_type": "code",
      "execution_count": 14,
      "metadata": {
        "colab": {
          "base_uri": "https://localhost:8080/",
          "height": 434
        },
        "id": "IwMAU-WdIuk0",
        "outputId": "c6d2a209-6a8a-4e98-89cd-fd0c6965725b"
      },
      "outputs": [
        {
          "output_type": "execute_result",
          "data": {
            "text/plain": [
              "      battery_power          blue   clock_speed      dual_sim            fc  \\\n",
              "count  1.600000e+03  1.600000e+03  1.600000e+03  1.600000e+03  1.600000e+03   \n",
              "mean   1.909584e-16 -5.551115e-18 -2.620126e-16 -1.554312e-17  1.110223e-16   \n",
              "std    1.000313e+00  1.000313e+00  1.000313e+00  1.000313e+00  1.000313e+00   \n",
              "min   -1.679133e+00 -9.814225e-01 -1.236230e+00 -1.030464e+00 -9.935611e-01   \n",
              "25%   -8.824736e-01 -9.814225e-01 -1.022798e+00 -1.030464e+00 -7.630365e-01   \n",
              "50%   -2.226278e-02 -9.814225e-01 -1.661722e-02  9.704368e-01 -3.019872e-01   \n",
              "75%    8.583753e-01  1.018929e+00  8.676019e-01  9.704368e-01  6.201112e-01   \n",
              "max    1.718586e+00  1.018929e+00  1.812802e+00  9.704368e-01  3.386407e+00   \n",
              "\n",
              "             four_g    int_memory         m_dep     mobile_wt       n_cores  \\\n",
              "count  1.600000e+03  1.600000e+03  1.600000e+03  1.600000e+03  1.600000e+03   \n",
              "mean   3.996803e-17 -1.709743e-16  2.975398e-16  2.220446e-16 -1.809664e-16   \n",
              "std    1.000313e+00  1.000313e+00  1.000313e+00  1.000313e+00  1.000313e+00   \n",
              "min   -1.046060e+00 -1.664149e+00 -1.403674e+00 -1.716351e+00 -1.547446e+00   \n",
              "25%   -1.046060e+00 -8.944732e-01 -1.054989e+00 -8.954521e-01 -6.737997e-01   \n",
              "50%    9.559684e-01  1.264467e-02 -8.935045e-03  1.036739e-02 -2.369765e-01   \n",
              "75%    9.559684e-01  8.647857e-01  1.037119e+00  8.595732e-01  1.073493e+00   \n",
              "max    9.559684e-01  1.744415e+00  1.734488e+00  1.680472e+00  1.510316e+00   \n",
              "\n",
              "                 pc     px_height      px_width           ram          sc_h  \\\n",
              "count  1.600000e+03  1.600000e+03  1.600000e+03  1.600000e+03  1.600000e+03   \n",
              "mean  -1.132427e-16 -1.243450e-16 -1.665335e-16  9.325873e-17 -1.532108e-16   \n",
              "std    1.000313e+00  1.000313e+00  1.000313e+00  1.000313e+00  1.000313e+00   \n",
              "min   -1.642804e+00 -1.446732e+00 -1.736440e+00 -1.719897e+00 -1.717388e+00   \n",
              "25%   -8.112676e-01 -8.179388e-01 -8.694853e-01 -8.361749e-01 -7.659267e-01   \n",
              "50%    2.026870e-02 -2.014972e-01 -1.759842e-02 -5.212318e-03 -5.233040e-02   \n",
              "75%    8.518049e-01  6.765671e-01  8.742750e-01  8.569895e-01  8.991314e-01   \n",
              "max    1.683341e+00  2.954818e+00  1.736014e+00  1.741869e+00  1.612728e+00   \n",
              "\n",
              "               sc_w     talk_time       three_g  touch_screen          wifi  \n",
              "count  1.600000e+03  1.600000e+03  1.600000e+03  1.600000e+03  1.600000e+03  \n",
              "mean  -1.021405e-16 -2.775558e-17 -1.382228e-16  8.881784e-18 -2.886580e-17  \n",
              "std    1.000313e+00  1.000313e+00  1.000313e+00  1.000313e+00  1.000313e+00  \n",
              "min   -1.315416e+00 -1.626742e+00 -1.794892e+00 -1.010051e+00 -9.975031e-01  \n",
              "25%   -8.543214e-01 -9.002645e-01  5.571367e-01 -1.010051e+00 -9.975031e-01  \n",
              "50%   -1.626798e-01  7.832335e-03  5.571367e-01  9.900495e-01 -9.975031e-01  \n",
              "75%    7.595088e-01  9.159292e-01  5.571367e-01  9.900495e-01  1.002503e+00  \n",
              "max    2.834433e+00  1.642407e+00  5.571367e-01  9.900495e-01  1.002503e+00  "
            ],
            "text/html": [
              "\n",
              "  <div id=\"df-fa0114d4-b42e-4880-82be-b730062e2751\">\n",
              "    <div class=\"colab-df-container\">\n",
              "      <div>\n",
              "<style scoped>\n",
              "    .dataframe tbody tr th:only-of-type {\n",
              "        vertical-align: middle;\n",
              "    }\n",
              "\n",
              "    .dataframe tbody tr th {\n",
              "        vertical-align: top;\n",
              "    }\n",
              "\n",
              "    .dataframe thead tr th {\n",
              "        text-align: left;\n",
              "    }\n",
              "</style>\n",
              "<table border=\"1\" class=\"dataframe\">\n",
              "  <thead>\n",
              "    <tr>\n",
              "      <th></th>\n",
              "      <th>battery_power</th>\n",
              "      <th>blue</th>\n",
              "      <th>clock_speed</th>\n",
              "      <th>dual_sim</th>\n",
              "      <th>fc</th>\n",
              "      <th>four_g</th>\n",
              "      <th>int_memory</th>\n",
              "      <th>m_dep</th>\n",
              "      <th>mobile_wt</th>\n",
              "      <th>n_cores</th>\n",
              "      <th>pc</th>\n",
              "      <th>px_height</th>\n",
              "      <th>px_width</th>\n",
              "      <th>ram</th>\n",
              "      <th>sc_h</th>\n",
              "      <th>sc_w</th>\n",
              "      <th>talk_time</th>\n",
              "      <th>three_g</th>\n",
              "      <th>touch_screen</th>\n",
              "      <th>wifi</th>\n",
              "    </tr>\n",
              "  </thead>\n",
              "  <tbody>\n",
              "    <tr>\n",
              "      <th>count</th>\n",
              "      <td>1.600000e+03</td>\n",
              "      <td>1.600000e+03</td>\n",
              "      <td>1.600000e+03</td>\n",
              "      <td>1.600000e+03</td>\n",
              "      <td>1.600000e+03</td>\n",
              "      <td>1.600000e+03</td>\n",
              "      <td>1.600000e+03</td>\n",
              "      <td>1.600000e+03</td>\n",
              "      <td>1.600000e+03</td>\n",
              "      <td>1.600000e+03</td>\n",
              "      <td>1.600000e+03</td>\n",
              "      <td>1.600000e+03</td>\n",
              "      <td>1.600000e+03</td>\n",
              "      <td>1.600000e+03</td>\n",
              "      <td>1.600000e+03</td>\n",
              "      <td>1.600000e+03</td>\n",
              "      <td>1.600000e+03</td>\n",
              "      <td>1.600000e+03</td>\n",
              "      <td>1.600000e+03</td>\n",
              "      <td>1.600000e+03</td>\n",
              "    </tr>\n",
              "    <tr>\n",
              "      <th>mean</th>\n",
              "      <td>1.909584e-16</td>\n",
              "      <td>-5.551115e-18</td>\n",
              "      <td>-2.620126e-16</td>\n",
              "      <td>-1.554312e-17</td>\n",
              "      <td>1.110223e-16</td>\n",
              "      <td>3.996803e-17</td>\n",
              "      <td>-1.709743e-16</td>\n",
              "      <td>2.975398e-16</td>\n",
              "      <td>2.220446e-16</td>\n",
              "      <td>-1.809664e-16</td>\n",
              "      <td>-1.132427e-16</td>\n",
              "      <td>-1.243450e-16</td>\n",
              "      <td>-1.665335e-16</td>\n",
              "      <td>9.325873e-17</td>\n",
              "      <td>-1.532108e-16</td>\n",
              "      <td>-1.021405e-16</td>\n",
              "      <td>-2.775558e-17</td>\n",
              "      <td>-1.382228e-16</td>\n",
              "      <td>8.881784e-18</td>\n",
              "      <td>-2.886580e-17</td>\n",
              "    </tr>\n",
              "    <tr>\n",
              "      <th>std</th>\n",
              "      <td>1.000313e+00</td>\n",
              "      <td>1.000313e+00</td>\n",
              "      <td>1.000313e+00</td>\n",
              "      <td>1.000313e+00</td>\n",
              "      <td>1.000313e+00</td>\n",
              "      <td>1.000313e+00</td>\n",
              "      <td>1.000313e+00</td>\n",
              "      <td>1.000313e+00</td>\n",
              "      <td>1.000313e+00</td>\n",
              "      <td>1.000313e+00</td>\n",
              "      <td>1.000313e+00</td>\n",
              "      <td>1.000313e+00</td>\n",
              "      <td>1.000313e+00</td>\n",
              "      <td>1.000313e+00</td>\n",
              "      <td>1.000313e+00</td>\n",
              "      <td>1.000313e+00</td>\n",
              "      <td>1.000313e+00</td>\n",
              "      <td>1.000313e+00</td>\n",
              "      <td>1.000313e+00</td>\n",
              "      <td>1.000313e+00</td>\n",
              "    </tr>\n",
              "    <tr>\n",
              "      <th>min</th>\n",
              "      <td>-1.679133e+00</td>\n",
              "      <td>-9.814225e-01</td>\n",
              "      <td>-1.236230e+00</td>\n",
              "      <td>-1.030464e+00</td>\n",
              "      <td>-9.935611e-01</td>\n",
              "      <td>-1.046060e+00</td>\n",
              "      <td>-1.664149e+00</td>\n",
              "      <td>-1.403674e+00</td>\n",
              "      <td>-1.716351e+00</td>\n",
              "      <td>-1.547446e+00</td>\n",
              "      <td>-1.642804e+00</td>\n",
              "      <td>-1.446732e+00</td>\n",
              "      <td>-1.736440e+00</td>\n",
              "      <td>-1.719897e+00</td>\n",
              "      <td>-1.717388e+00</td>\n",
              "      <td>-1.315416e+00</td>\n",
              "      <td>-1.626742e+00</td>\n",
              "      <td>-1.794892e+00</td>\n",
              "      <td>-1.010051e+00</td>\n",
              "      <td>-9.975031e-01</td>\n",
              "    </tr>\n",
              "    <tr>\n",
              "      <th>25%</th>\n",
              "      <td>-8.824736e-01</td>\n",
              "      <td>-9.814225e-01</td>\n",
              "      <td>-1.022798e+00</td>\n",
              "      <td>-1.030464e+00</td>\n",
              "      <td>-7.630365e-01</td>\n",
              "      <td>-1.046060e+00</td>\n",
              "      <td>-8.944732e-01</td>\n",
              "      <td>-1.054989e+00</td>\n",
              "      <td>-8.954521e-01</td>\n",
              "      <td>-6.737997e-01</td>\n",
              "      <td>-8.112676e-01</td>\n",
              "      <td>-8.179388e-01</td>\n",
              "      <td>-8.694853e-01</td>\n",
              "      <td>-8.361749e-01</td>\n",
              "      <td>-7.659267e-01</td>\n",
              "      <td>-8.543214e-01</td>\n",
              "      <td>-9.002645e-01</td>\n",
              "      <td>5.571367e-01</td>\n",
              "      <td>-1.010051e+00</td>\n",
              "      <td>-9.975031e-01</td>\n",
              "    </tr>\n",
              "    <tr>\n",
              "      <th>50%</th>\n",
              "      <td>-2.226278e-02</td>\n",
              "      <td>-9.814225e-01</td>\n",
              "      <td>-1.661722e-02</td>\n",
              "      <td>9.704368e-01</td>\n",
              "      <td>-3.019872e-01</td>\n",
              "      <td>9.559684e-01</td>\n",
              "      <td>1.264467e-02</td>\n",
              "      <td>-8.935045e-03</td>\n",
              "      <td>1.036739e-02</td>\n",
              "      <td>-2.369765e-01</td>\n",
              "      <td>2.026870e-02</td>\n",
              "      <td>-2.014972e-01</td>\n",
              "      <td>-1.759842e-02</td>\n",
              "      <td>-5.212318e-03</td>\n",
              "      <td>-5.233040e-02</td>\n",
              "      <td>-1.626798e-01</td>\n",
              "      <td>7.832335e-03</td>\n",
              "      <td>5.571367e-01</td>\n",
              "      <td>9.900495e-01</td>\n",
              "      <td>-9.975031e-01</td>\n",
              "    </tr>\n",
              "    <tr>\n",
              "      <th>75%</th>\n",
              "      <td>8.583753e-01</td>\n",
              "      <td>1.018929e+00</td>\n",
              "      <td>8.676019e-01</td>\n",
              "      <td>9.704368e-01</td>\n",
              "      <td>6.201112e-01</td>\n",
              "      <td>9.559684e-01</td>\n",
              "      <td>8.647857e-01</td>\n",
              "      <td>1.037119e+00</td>\n",
              "      <td>8.595732e-01</td>\n",
              "      <td>1.073493e+00</td>\n",
              "      <td>8.518049e-01</td>\n",
              "      <td>6.765671e-01</td>\n",
              "      <td>8.742750e-01</td>\n",
              "      <td>8.569895e-01</td>\n",
              "      <td>8.991314e-01</td>\n",
              "      <td>7.595088e-01</td>\n",
              "      <td>9.159292e-01</td>\n",
              "      <td>5.571367e-01</td>\n",
              "      <td>9.900495e-01</td>\n",
              "      <td>1.002503e+00</td>\n",
              "    </tr>\n",
              "    <tr>\n",
              "      <th>max</th>\n",
              "      <td>1.718586e+00</td>\n",
              "      <td>1.018929e+00</td>\n",
              "      <td>1.812802e+00</td>\n",
              "      <td>9.704368e-01</td>\n",
              "      <td>3.386407e+00</td>\n",
              "      <td>9.559684e-01</td>\n",
              "      <td>1.744415e+00</td>\n",
              "      <td>1.734488e+00</td>\n",
              "      <td>1.680472e+00</td>\n",
              "      <td>1.510316e+00</td>\n",
              "      <td>1.683341e+00</td>\n",
              "      <td>2.954818e+00</td>\n",
              "      <td>1.736014e+00</td>\n",
              "      <td>1.741869e+00</td>\n",
              "      <td>1.612728e+00</td>\n",
              "      <td>2.834433e+00</td>\n",
              "      <td>1.642407e+00</td>\n",
              "      <td>5.571367e-01</td>\n",
              "      <td>9.900495e-01</td>\n",
              "      <td>1.002503e+00</td>\n",
              "    </tr>\n",
              "  </tbody>\n",
              "</table>\n",
              "</div>\n",
              "      <button class=\"colab-df-convert\" onclick=\"convertToInteractive('df-fa0114d4-b42e-4880-82be-b730062e2751')\"\n",
              "              title=\"Convert this dataframe to an interactive table.\"\n",
              "              style=\"display:none;\">\n",
              "        \n",
              "  <svg xmlns=\"http://www.w3.org/2000/svg\" height=\"24px\"viewBox=\"0 0 24 24\"\n",
              "       width=\"24px\">\n",
              "    <path d=\"M0 0h24v24H0V0z\" fill=\"none\"/>\n",
              "    <path d=\"M18.56 5.44l.94 2.06.94-2.06 2.06-.94-2.06-.94-.94-2.06-.94 2.06-2.06.94zm-11 1L8.5 8.5l.94-2.06 2.06-.94-2.06-.94L8.5 2.5l-.94 2.06-2.06.94zm10 10l.94 2.06.94-2.06 2.06-.94-2.06-.94-.94-2.06-.94 2.06-2.06.94z\"/><path d=\"M17.41 7.96l-1.37-1.37c-.4-.4-.92-.59-1.43-.59-.52 0-1.04.2-1.43.59L10.3 9.45l-7.72 7.72c-.78.78-.78 2.05 0 2.83L4 21.41c.39.39.9.59 1.41.59.51 0 1.02-.2 1.41-.59l7.78-7.78 2.81-2.81c.8-.78.8-2.07 0-2.86zM5.41 20L4 18.59l7.72-7.72 1.47 1.35L5.41 20z\"/>\n",
              "  </svg>\n",
              "      </button>\n",
              "      \n",
              "  <style>\n",
              "    .colab-df-container {\n",
              "      display:flex;\n",
              "      flex-wrap:wrap;\n",
              "      gap: 12px;\n",
              "    }\n",
              "\n",
              "    .colab-df-convert {\n",
              "      background-color: #E8F0FE;\n",
              "      border: none;\n",
              "      border-radius: 50%;\n",
              "      cursor: pointer;\n",
              "      display: none;\n",
              "      fill: #1967D2;\n",
              "      height: 32px;\n",
              "      padding: 0 0 0 0;\n",
              "      width: 32px;\n",
              "    }\n",
              "\n",
              "    .colab-df-convert:hover {\n",
              "      background-color: #E2EBFA;\n",
              "      box-shadow: 0px 1px 2px rgba(60, 64, 67, 0.3), 0px 1px 3px 1px rgba(60, 64, 67, 0.15);\n",
              "      fill: #174EA6;\n",
              "    }\n",
              "\n",
              "    [theme=dark] .colab-df-convert {\n",
              "      background-color: #3B4455;\n",
              "      fill: #D2E3FC;\n",
              "    }\n",
              "\n",
              "    [theme=dark] .colab-df-convert:hover {\n",
              "      background-color: #434B5C;\n",
              "      box-shadow: 0px 1px 3px 1px rgba(0, 0, 0, 0.15);\n",
              "      filter: drop-shadow(0px 1px 2px rgba(0, 0, 0, 0.3));\n",
              "      fill: #FFFFFF;\n",
              "    }\n",
              "  </style>\n",
              "\n",
              "      <script>\n",
              "        const buttonEl =\n",
              "          document.querySelector('#df-fa0114d4-b42e-4880-82be-b730062e2751 button.colab-df-convert');\n",
              "        buttonEl.style.display =\n",
              "          google.colab.kernel.accessAllowed ? 'block' : 'none';\n",
              "\n",
              "        async function convertToInteractive(key) {\n",
              "          const element = document.querySelector('#df-fa0114d4-b42e-4880-82be-b730062e2751');\n",
              "          const dataTable =\n",
              "            await google.colab.kernel.invokeFunction('convertToInteractive',\n",
              "                                                     [key], {});\n",
              "          if (!dataTable) return;\n",
              "\n",
              "          const docLinkHtml = 'Like what you see? Visit the ' +\n",
              "            '<a target=\"_blank\" href=https://colab.research.google.com/notebooks/data_table.ipynb>data table notebook</a>'\n",
              "            + ' to learn more about interactive tables.';\n",
              "          element.innerHTML = '';\n",
              "          dataTable['output_type'] = 'display_data';\n",
              "          await google.colab.output.renderOutput(dataTable, element);\n",
              "          const docLink = document.createElement('div');\n",
              "          docLink.innerHTML = docLinkHtml;\n",
              "          element.appendChild(docLink);\n",
              "        }\n",
              "      </script>\n",
              "    </div>\n",
              "  </div>\n",
              "  "
            ]
          },
          "metadata": {},
          "execution_count": 14
        }
      ],
      "source": [
        "X_train = pd.DataFrame(X_train, columns=[cols])\n",
        "X_test = pd.DataFrame(X_test, columns=[cols])\n",
        "X_train.describe()"
      ]
    },
    {
      "cell_type": "markdown",
      "metadata": {
        "id": "No-0jNd8OEum"
      },
      "source": [
        "La función svm_classifier.fit(X, y) se utiliza en scikit-learn para entrenar un clasificador de Máquinas de Vectores de Soporte (SVM). Esta función ajusta el modelo SVM a los datos de entrenamiento X y las etiquetas de clase correspondientes y.\n",
        "\n",
        "El proceso de ajuste implica encontrar el hiperplano óptimo que separa las clases en el espacio de características. El clasificador SVM busca el hiperplano de separación maximizando el margen entre las muestras de entrenamiento más cercanas a él, que son conocidas como vectores de soporte.\n",
        "\n",
        "#### ¿cómo funciona svm_classifier.fit()?\n",
        "\n",
        "1. Preparación de los datos: Antes de llamar a fit(), es importante asegurarse de que los datos de entrenamiento X y las etiquetas de clase y estén en el formato adecuado. X debe ser una matriz de características, donde cada fila representa una muestra y cada columna representa una característica. y debe ser una matriz o una lista que contenga las etiquetas correspondientes a las muestras de X.\n",
        "\n",
        "2. Ajuste del modelo: Al llamar a svm_classifier.fit(X, y), se inicia el proceso de ajuste del modelo. Durante este proceso, el clasificador SVM utiliza un algoritmo de optimización para encontrar los parámetros óptimos que definen el hiperplano de separación.\n",
        "\n",
        "3. Optimización: El algoritmo de optimización utilizado en SVM busca encontrar los valores óptimos de los pesos w y el término de sesgo b en la función de decisión. Estos parámetros determinan la ubicación y orientación del hiperplano de separación.\n",
        "\n",
        "4. Cálculo de los vectores de soporte: Durante la optimización, el clasificador SVM identifica los vectores de soporte, que son las muestras de entrenamiento más cercanas al hiperplano de separación. Estos vectores de soporte son cruciales para el funcionamiento del clasificador, ya que definen la ubicación del hiperplano y se utilizan para realizar predicciones.\n",
        "\n",
        "5. Finalización del ajuste: Una vez que se completa la optimización, el modelo SVM ha sido ajustado a los datos de entrenamiento. Ahora está listo para realizar predicciones en nuevos datos utilizando la función svm_classifier.predict(X_new).\n",
        "\n",
        "El proceso de ajuste puede variar dependiendo de los parámetros específicos que se utilicen en el clasificador SVM, como el tipo de kernel, los parámetros de regularización y otros ajustes relacionados. Es recomendable consultar la documentación de scikit-learn para obtener detalles sobre los parámetros y opciones específicas del clasificador SVM que estén utilizando."
      ]
    },
    {
      "cell_type": "code",
      "execution_count": 15,
      "metadata": {
        "colab": {
          "base_uri": "https://localhost:8080/",
          "height": 75
        },
        "id": "_IXe_6G_I3yU",
        "outputId": "ef3f797b-73a3-4b4c-c0dd-1ca8c2ba9443"
      },
      "outputs": [
        {
          "output_type": "execute_result",
          "data": {
            "text/plain": [
              "SVC()"
            ],
            "text/html": [
              "<style>#sk-container-id-1 {color: black;background-color: white;}#sk-container-id-1 pre{padding: 0;}#sk-container-id-1 div.sk-toggleable {background-color: white;}#sk-container-id-1 label.sk-toggleable__label {cursor: pointer;display: block;width: 100%;margin-bottom: 0;padding: 0.3em;box-sizing: border-box;text-align: center;}#sk-container-id-1 label.sk-toggleable__label-arrow:before {content: \"▸\";float: left;margin-right: 0.25em;color: #696969;}#sk-container-id-1 label.sk-toggleable__label-arrow:hover:before {color: black;}#sk-container-id-1 div.sk-estimator:hover label.sk-toggleable__label-arrow:before {color: black;}#sk-container-id-1 div.sk-toggleable__content {max-height: 0;max-width: 0;overflow: hidden;text-align: left;background-color: #f0f8ff;}#sk-container-id-1 div.sk-toggleable__content pre {margin: 0.2em;color: black;border-radius: 0.25em;background-color: #f0f8ff;}#sk-container-id-1 input.sk-toggleable__control:checked~div.sk-toggleable__content {max-height: 200px;max-width: 100%;overflow: auto;}#sk-container-id-1 input.sk-toggleable__control:checked~label.sk-toggleable__label-arrow:before {content: \"▾\";}#sk-container-id-1 div.sk-estimator input.sk-toggleable__control:checked~label.sk-toggleable__label {background-color: #d4ebff;}#sk-container-id-1 div.sk-label input.sk-toggleable__control:checked~label.sk-toggleable__label {background-color: #d4ebff;}#sk-container-id-1 input.sk-hidden--visually {border: 0;clip: rect(1px 1px 1px 1px);clip: rect(1px, 1px, 1px, 1px);height: 1px;margin: -1px;overflow: hidden;padding: 0;position: absolute;width: 1px;}#sk-container-id-1 div.sk-estimator {font-family: monospace;background-color: #f0f8ff;border: 1px dotted black;border-radius: 0.25em;box-sizing: border-box;margin-bottom: 0.5em;}#sk-container-id-1 div.sk-estimator:hover {background-color: #d4ebff;}#sk-container-id-1 div.sk-parallel-item::after {content: \"\";width: 100%;border-bottom: 1px solid gray;flex-grow: 1;}#sk-container-id-1 div.sk-label:hover label.sk-toggleable__label {background-color: #d4ebff;}#sk-container-id-1 div.sk-serial::before {content: \"\";position: absolute;border-left: 1px solid gray;box-sizing: border-box;top: 0;bottom: 0;left: 50%;z-index: 0;}#sk-container-id-1 div.sk-serial {display: flex;flex-direction: column;align-items: center;background-color: white;padding-right: 0.2em;padding-left: 0.2em;position: relative;}#sk-container-id-1 div.sk-item {position: relative;z-index: 1;}#sk-container-id-1 div.sk-parallel {display: flex;align-items: stretch;justify-content: center;background-color: white;position: relative;}#sk-container-id-1 div.sk-item::before, #sk-container-id-1 div.sk-parallel-item::before {content: \"\";position: absolute;border-left: 1px solid gray;box-sizing: border-box;top: 0;bottom: 0;left: 50%;z-index: -1;}#sk-container-id-1 div.sk-parallel-item {display: flex;flex-direction: column;z-index: 1;position: relative;background-color: white;}#sk-container-id-1 div.sk-parallel-item:first-child::after {align-self: flex-end;width: 50%;}#sk-container-id-1 div.sk-parallel-item:last-child::after {align-self: flex-start;width: 50%;}#sk-container-id-1 div.sk-parallel-item:only-child::after {width: 0;}#sk-container-id-1 div.sk-dashed-wrapped {border: 1px dashed gray;margin: 0 0.4em 0.5em 0.4em;box-sizing: border-box;padding-bottom: 0.4em;background-color: white;}#sk-container-id-1 div.sk-label label {font-family: monospace;font-weight: bold;display: inline-block;line-height: 1.2em;}#sk-container-id-1 div.sk-label-container {text-align: center;}#sk-container-id-1 div.sk-container {/* jupyter's `normalize.less` sets `[hidden] { display: none; }` but bootstrap.min.css set `[hidden] { display: none !important; }` so we also need the `!important` here to be able to override the default hidden behavior on the sphinx rendered scikit-learn.org. See: https://github.com/scikit-learn/scikit-learn/issues/21755 */display: inline-block !important;position: relative;}#sk-container-id-1 div.sk-text-repr-fallback {display: none;}</style><div id=\"sk-container-id-1\" class=\"sk-top-container\"><div class=\"sk-text-repr-fallback\"><pre>SVC()</pre><b>In a Jupyter environment, please rerun this cell to show the HTML representation or trust the notebook. <br />On GitHub, the HTML representation is unable to render, please try loading this page with nbviewer.org.</b></div><div class=\"sk-container\" hidden><div class=\"sk-item\"><div class=\"sk-estimator sk-toggleable\"><input class=\"sk-toggleable__control sk-hidden--visually\" id=\"sk-estimator-id-1\" type=\"checkbox\" checked><label for=\"sk-estimator-id-1\" class=\"sk-toggleable__label sk-toggleable__label-arrow\">SVC</label><div class=\"sk-toggleable__content\"><pre>SVC()</pre></div></div></div></div></div>"
            ]
          },
          "metadata": {},
          "execution_count": 15
        }
      ],
      "source": [
        "#Entrenamos el clasificador\n",
        "svm_classifier.fit(X_train,y_train)"
      ]
    },
    {
      "cell_type": "markdown",
      "metadata": {
        "id": "X91NUX3zOGuY"
      },
      "source": [
        "La función svm_classifier.predict(X) en Python se utiliza para realizar predicciones utilizando un clasificador de Máquinas de Vectores de Soporte (SVM). Dado un conjunto de datos de entrada X, esta función devuelve las etiquetas de clase predichas por el modelo SVM.\n",
        "\n",
        "#### ¿cómo funciona svm_classifier.predict()?\n",
        "\n",
        "1. Preparación de los datos: Antes de llamar a predict(), es importante asegurarse de que los datos de entrada X estén en el formato adecuado. X debe ser una matriz de características, donde cada fila representa una muestra y cada columna representa una característica.\n",
        "\n",
        "2. Extracción de características: Si se realizaron transformaciones o ajustes a los datos de entrenamiento antes de ajustar el modelo SVM (por ejemplo, escalamiento de características), es importante aplicar las mismas transformaciones a los datos de prueba antes de realizar predicciones. Esto garantiza que los datos de prueba se ajusten correctamente al modelo entrenado.\n",
        "\n",
        "3. Predicción: Al llamar a svm_classifier.predict(X), se realiza la predicción utilizando el modelo SVM entrenado. El clasificador SVM utiliza el hiperplano de separación óptimo y los vectores de soporte identificados durante el entrenamiento para determinar las etiquetas de clase predichas para las muestras de entrada X.\n",
        "\n",
        "4. Etiquetas de clase: La función predict() devuelve una matriz o una lista que contiene las etiquetas de clase predichas para las muestras de entrada X. Cada etiqueta de clase representa la clase a la que se predice que pertenece una muestra en particular.\n",
        "\n",
        "A continuación usamos la función predict() para el dataset de pruebas que teníamos ya conformado:"
      ]
    },
    {
      "cell_type": "code",
      "execution_count": 16,
      "metadata": {
        "id": "_ZmgEFUVJMtE"
      },
      "outputs": [],
      "source": [
        "#Hacemos las predicciones con el set de pruebas\n",
        "y_pred = svm_classifier.predict(X_test)"
      ]
    },
    {
      "cell_type": "markdown",
      "metadata": {
        "id": "m838_uDzOHSc"
      },
      "source": [
        "La función accuracy_score(y_true, y_pred) se utiliza en scikit-learn para calcular la precisión de las predicciones de un modelo de clasificación, incluyendo un modelo SVM.\n",
        "\n",
        "* Datos de entrada: Antes de llamar a accuracy_score(), necesitas tener dos conjuntos de etiquetas de clase: y_true y y_pred.\n",
        "\n",
        " * y_true es una matriz o una lista que contiene las etiquetas de clase reales o verdaderas para un conjunto de datos.\n",
        " * y_pred es una matriz o una lista que contiene las etiquetas de clase predichas por el modelo SVM para el mismo conjunto de datos.\n",
        "\n",
        "* Comparación de etiquetas: La función accuracy_score() compara las etiquetas de clase reales (y_true) con las etiquetas de clase predichas (y_pred), elemento por elemento.\n",
        "\n",
        "* Cálculo de precisión: Para calcular la precisión, accuracy_score() cuenta el número de predicciones correctas y lo divide por el número total de predicciones. Esto se realiza mediante la fórmula:\n",
        "\n",
        "```\n",
        "precision = (Número de predicciones correctas) / (Número total de predicciones)\n",
        "```\n",
        "\n",
        "* Valor de retorno: La función accuracy_score() devuelve un solo valor que representa la precisión del modelo SVM en términos de la fracción de predicciones correctas.\n",
        "\n",
        "La precisión resultante será un número entre 0 y 1, donde un valor más cercano a 1 indica una mayor precisión en las predicciones del modelo SVM."
      ]
    },
    {
      "cell_type": "code",
      "execution_count": 17,
      "metadata": {
        "colab": {
          "base_uri": "https://localhost:8080/"
        },
        "id": "97bWo39_JUMd",
        "outputId": "f6b748a6-d8dc-4f5c-a98b-8dcd174fcc25"
      },
      "outputs": [
        {
          "output_type": "stream",
          "name": "stdout",
          "text": [
            "Model accuracy score with default hyperparameters: 0.8925\n"
          ]
        }
      ],
      "source": [
        "# compute and print accuracy score\n",
        "print('Model accuracy score with default hyperparameters: {0:0.4f}'.format(accuracy_score(y_test, y_pred)))"
      ]
    },
    {
      "cell_type": "markdown",
      "metadata": {
        "id": "sge7dtjjOHu1"
      },
      "source": [
        "Por último, aquí un ejemplo rápido de entrenamiento y predicción con su presición para que puedan definir varios parámetros y funciones de kernel para obtener un mejor resultado según los datos de entrenamiento graficados anterioremente:"
      ]
    },
    {
      "cell_type": "code",
      "execution_count": 18,
      "metadata": {
        "colab": {
          "base_uri": "https://localhost:8080/"
        },
        "id": "_sqawHl2JrF9",
        "outputId": "02a231e8-c6d9-4823-cc98-becbb3e638bf"
      },
      "outputs": [
        {
          "output_type": "stream",
          "name": "stdout",
          "text": [
            "Model accuracy score with rbf kernel and C=100.0 : 0.9750\n"
          ]
        }
      ],
      "source": [
        "# instantiate classifier with rbf kernel and C=100\n",
        "svm_classifier = SVC(kernel='linear', C=100.0)\n",
        "svm_classifier.fit(X_train,y_train)\n",
        "y_pred=svm_classifier.predict(X_test)\n",
        "# compute and print accuracy score\n",
        "print('Model accuracy score with rbf kernel and C=100.0 : {0:0.4f}'.format(accuracy_score(y_test, y_pred)))"
      ]
    },
    {
      "cell_type": "markdown",
      "metadata": {
        "id": "3KPnm1WIY8mg"
      },
      "source": [
        "## Support Vector Machines: Ejercicio Práctico\n",
        "\n",
        "Bajo la misma metodología de los laboratorios pasados, busquen un dataset para aplicar lo aprendido y predecir una variable objetivo del mismo. Para este laboratorio:\n",
        "\n",
        "1. Buscar un dataset y utilizarlo con las técnicas aprendidas en este ejercicio.\n",
        "2. Aplicar preprocesamiento de datos de ser necesario para ordenar el dataset para su mejor aplicación del ejercicio.\n",
        "3. Dividir el dataset en un conjunto de pruebas y otro de entrenamiento según lo definan sea mejor para su caso. \n",
        "4. Crear y utilizar una máquina de soporte vectorial para clasificación\n",
        "5. Utilizar el dataset de entrenamiento para entrenar el clasificador\n",
        "6. Realizar las pruebas con el conjunto que separaron.\n",
        "7. Desplegar la precisión que con los parámetros y función de kernel con la que lograron una mejor predicción general.\n",
        "8. Para cada punto anterior, separan el código con una explicación de lo realizado y aprendido en el apartado.  "
      ]
    },
    {
      "cell_type": "markdown",
      "source": [
        "###Ejercicio Práctico"
      ],
      "metadata": {
        "id": "cAoNT-jLKUSE"
      }
    },
    {
      "cell_type": "markdown",
      "metadata": {
        "id": "knv2kBAJ9p6p"
      },
      "source": [
        "1. Buscar un dataset.  \n",
        "Dataset seleccionado: https://raw.githubusercontent.com/alexandrehsd/Predicting-Pulsar-Stars/master/pulsar_stars.csv  \n",
        "Fuente: https://www.kaggle.com/code/prashant111/svm-classifier-tutorial  \n",
        "\n",
        "El dataset utilizado es \"Predicting a Pulsar Star\" (Predicción de una Estrella Pulsar).\n",
        "\n",
        "Las estrellas pulsar son un tipo raro de estrella de neutrones que producen emisiones de radio detectables en la Tierra. Son de considerable interés científico como sondas del espacio-tiempo, el medio interestelar y los estados de la materia. En particular, se están utilizando algoritmos de clasificación que tratan los conjuntos de datos como problemas de clasificación binaria. Aquí, los ejemplos legítimos de pulsares forman la clase positiva minoritaria y los ejemplos espurios forman la clase negativa mayoritaria.\n",
        "\n",
        "El dataset compartido contiene 16,259 ejemplos espurios causados por RFI/ruido y 1,639 ejemplos reales de pulsares. Cada fila enumera las variables primero y la etiqueta de clase es la entrada final. Las etiquetas de clase utilizadas son 0 (negativo) y 1 (positivo)."
      ]
    },
    {
      "cell_type": "code",
      "execution_count": 19,
      "metadata": {
        "colab": {
          "base_uri": "https://localhost:8080/"
        },
        "id": "dswRy-j7Aw38",
        "outputId": "aaf90ecf-20f9-4532-db2b-79938517b9c1"
      },
      "outputs": [
        {
          "output_type": "stream",
          "name": "stdout",
          "text": [
            "    Mean of the integrated profile  \\\n",
            "0                       140.562500   \n",
            "1                       102.507812   \n",
            "2                       103.015625   \n",
            "3                       136.750000   \n",
            "4                        88.726562   \n",
            "\n",
            "    Standard deviation of the integrated profile  \\\n",
            "0                                      55.683782   \n",
            "1                                      58.882430   \n",
            "2                                      39.341649   \n",
            "3                                      57.178449   \n",
            "4                                      40.672225   \n",
            "\n",
            "    Excess kurtosis of the integrated profile  \\\n",
            "0                                   -0.234571   \n",
            "1                                    0.465318   \n",
            "2                                    0.323328   \n",
            "3                                   -0.068415   \n",
            "4                                    0.600866   \n",
            "\n",
            "    Skewness of the integrated profile   Mean of the DM-SNR curve  \\\n",
            "0                            -0.699648                   3.199833   \n",
            "1                            -0.515088                   1.677258   \n",
            "2                             1.051164                   3.121237   \n",
            "3                            -0.636238                   3.642977   \n",
            "4                             1.123492                   1.178930   \n",
            "\n",
            "    Standard deviation of the DM-SNR curve  \\\n",
            "0                                19.110426   \n",
            "1                                14.860146   \n",
            "2                                21.744669   \n",
            "3                                20.959280   \n",
            "4                                11.468720   \n",
            "\n",
            "    Excess kurtosis of the DM-SNR curve   Skewness of the DM-SNR curve  \\\n",
            "0                              7.975532                      74.242225   \n",
            "1                             10.576487                     127.393580   \n",
            "2                              7.735822                      63.171909   \n",
            "3                              6.896499                      53.593661   \n",
            "4                             14.269573                     252.567306   \n",
            "\n",
            "   target_class  \n",
            "0             0  \n",
            "1             0  \n",
            "2             0  \n",
            "3             0  \n",
            "4             0  \n"
          ]
        }
      ],
      "source": [
        "\"\"\" Importamos las librerías necesarias \"\"\"\n",
        "\n",
        "from sklearn.svm import SVC\n",
        "from sklearn.metrics import accuracy_score\n",
        "from sklearn.model_selection import train_test_split\n",
        "from sklearn.preprocessing import StandardScaler\n",
        "from sklearn.metrics import mean_squared_error, r2_score\n",
        "import numpy as np\n",
        "import matplotlib.pyplot as plt\n",
        "from sklearn.preprocessing import StandardScaler\n",
        "import pandas as pd\n",
        "import io\n",
        "from matplotlib.colors import ListedColormap\n",
        "\n",
        "# se carga el archivo con un URL\n",
        "url = \"https://raw.githubusercontent.com/alexandrehsd/Predicting-Pulsar-Stars/master/pulsar_stars.csv\"\n",
        "dataset = pd.read_csv(url)\n",
        "\n",
        "# vemos una descripción de las 5 primeras filas del dataset\n",
        "print(dataset.head())"
      ]
    },
    {
      "cell_type": "markdown",
      "metadata": {
        "id": "8S-nY8m0AWYu"
      },
      "source": [
        "2. Aplicar preprocesamiento de datos de ser necesario para ordenar el dataset para su mejor aplicación del ejercicio."
      ]
    },
    {
      "cell_type": "code",
      "execution_count": 20,
      "metadata": {
        "colab": {
          "base_uri": "https://localhost:8080/"
        },
        "id": "h-h0J8XEAU37",
        "outputId": "136485ae-747b-4719-d762-3b4ac71ef24a"
      },
      "outputs": [
        {
          "output_type": "stream",
          "name": "stdout",
          "text": [
            "count    17898.000000\n",
            "mean         0.091574\n",
            "std          0.288432\n",
            "min          0.000000\n",
            "25%          0.000000\n",
            "50%          0.000000\n",
            "75%          0.000000\n",
            "max          1.000000\n",
            "Name: target_class, dtype: float64\n",
            "[0 1]\n"
          ]
        }
      ],
      "source": [
        "\"\"\" Utilizamos describe() y unique() para obtener estadísticas descriptivas del \n",
        "DataFrame y obtener los valores únicos de la columna `target_class`\"\"\"\n",
        "\n",
        "print(dataset['target_class'].describe())\n",
        "print(dataset['target_class'].unique())"
      ]
    },
    {
      "cell_type": "code",
      "execution_count": 21,
      "metadata": {
        "colab": {
          "base_uri": "https://localhost:8080/"
        },
        "id": "P3hiE0X2DyQP",
        "outputId": "e3558c98-7af1-4f97-b610-c1eb28b542ee"
      },
      "outputs": [
        {
          "output_type": "stream",
          "name": "stdout",
          "text": [
            "Caracteristicas:\n",
            "         Mean of the integrated profile  \\\n",
            "0                           140.562500   \n",
            "1                           102.507812   \n",
            "2                           103.015625   \n",
            "3                           136.750000   \n",
            "4                            88.726562   \n",
            "...                                ...   \n",
            "17893                       136.429688   \n",
            "17894                       122.554688   \n",
            "17895                       119.335938   \n",
            "17896                       114.507812   \n",
            "17897                        57.062500   \n",
            "\n",
            "        Standard deviation of the integrated profile  \\\n",
            "0                                          55.683782   \n",
            "1                                          58.882430   \n",
            "2                                          39.341649   \n",
            "3                                          57.178449   \n",
            "4                                          40.672225   \n",
            "...                                              ...   \n",
            "17893                                      59.847421   \n",
            "17894                                      49.485605   \n",
            "17895                                      59.935939   \n",
            "17896                                      53.902400   \n",
            "17897                                      85.797340   \n",
            "\n",
            "        Excess kurtosis of the integrated profile  \\\n",
            "0                                       -0.234571   \n",
            "1                                        0.465318   \n",
            "2                                        0.323328   \n",
            "3                                       -0.068415   \n",
            "4                                        0.600866   \n",
            "...                                           ...   \n",
            "17893                                   -0.187846   \n",
            "17894                                    0.127978   \n",
            "17895                                    0.159363   \n",
            "17896                                    0.201161   \n",
            "17897                                    1.406391   \n",
            "\n",
            "        Skewness of the integrated profile   Mean of the DM-SNR curve  \\\n",
            "0                                -0.699648                   3.199833   \n",
            "1                                -0.515088                   1.677258   \n",
            "2                                 1.051164                   3.121237   \n",
            "3                                -0.636238                   3.642977   \n",
            "4                                 1.123492                   1.178930   \n",
            "...                                    ...                        ...   \n",
            "17893                            -0.738123                   1.296823   \n",
            "17894                             0.323061                  16.409699   \n",
            "17895                            -0.743025                  21.430602   \n",
            "17896                            -0.024789                   1.946488   \n",
            "17897                             0.089520                 188.306020   \n",
            "\n",
            "        Standard deviation of the DM-SNR curve  \\\n",
            "0                                    19.110426   \n",
            "1                                    14.860146   \n",
            "2                                    21.744669   \n",
            "3                                    20.959280   \n",
            "4                                    11.468720   \n",
            "...                                        ...   \n",
            "17893                                12.166062   \n",
            "17894                                44.626893   \n",
            "17895                                58.872000   \n",
            "17896                                13.381731   \n",
            "17897                                64.712562   \n",
            "\n",
            "        Excess kurtosis of the DM-SNR curve   Skewness of the DM-SNR curve  \n",
            "0                                  7.975532                      74.242225  \n",
            "1                                 10.576487                     127.393580  \n",
            "2                                  7.735822                      63.171909  \n",
            "3                                  6.896499                      53.593661  \n",
            "4                                 14.269573                     252.567306  \n",
            "...                                     ...                            ...  \n",
            "17893                             15.450260                     285.931022  \n",
            "17894                              2.945244                       8.297092  \n",
            "17895                              2.499517                       4.595173  \n",
            "17896                             10.007967                     134.238910  \n",
            "17897                             -1.597527                       1.429475  \n",
            "\n",
            "[17898 rows x 8 columns] \n",
            "\n",
            "Atributo objetivo:\n",
            " 0        0\n",
            "1        0\n",
            "2        0\n",
            "3        0\n",
            "4        0\n",
            "        ..\n",
            "17893    0\n",
            "17894    0\n",
            "17895    0\n",
            "17896    0\n",
            "17897    0\n",
            "Name: target_class, Length: 17898, dtype: int64 \n",
            "\n"
          ]
        }
      ],
      "source": [
        "\"\"\" Transformamos los valores de entrenamiento en un array para poder hacer un \n",
        "gráfico de los puntos separados por las clases del atributo `target_class`\"\"\"\n",
        "\n",
        "# asignar el rango de columnas desde la columna 0 hasta la penúltima del dataset\n",
        "X = dataset.drop(['target_class'], axis=1) # caracteristicas\n",
        "y = dataset[\"target_class\"] # atributo objetivo\n",
        "\n",
        "print(f\"Caracteristicas:\\n {X} \\n\")\n",
        "print(f\"Atributo objetivo:\\n {y} \\n\")"
      ]
    },
    {
      "cell_type": "markdown",
      "metadata": {
        "id": "KyXB6ktNH9eB"
      },
      "source": [
        "3. Dividir el dataset en un conjunto de pruebas y otro de entrenamiento según lo definan sea mejor para su caso. "
      ]
    },
    {
      "cell_type": "code",
      "execution_count": 22,
      "metadata": {
        "id": "YTjxGFqHH-Ii"
      },
      "outputs": [],
      "source": [
        "# Dividimos los datos en conjuntos de entrenamiento y prueba\n",
        "X_train, X_test, y_train, y_test = train_test_split(X, y, test_size=0.2, random_state=42)"
      ]
    },
    {
      "cell_type": "markdown",
      "metadata": {
        "id": "Lr_PQqz8IOhx"
      },
      "source": [
        "4. Crear y utilizar una máquina de soporte vectorial para clasificación"
      ]
    },
    {
      "cell_type": "code",
      "execution_count": 23,
      "metadata": {
        "colab": {
          "base_uri": "https://localhost:8080/",
          "height": 362
        },
        "id": "km9yhLFyIU-K",
        "outputId": "1788221c-2c33-4eb8-e5a4-6093386c3bf9"
      },
      "outputs": [
        {
          "output_type": "execute_result",
          "data": {
            "text/plain": [
              "       Mean of the integrated profile  \\\n",
              "count                    1.431800e+04   \n",
              "mean                    -8.833399e-17   \n",
              "std                      1.000035e+00   \n",
              "min                     -4.105247e+00   \n",
              "25%                     -4.007893e-01   \n",
              "50%                      1.599521e-01   \n",
              "75%                      6.233520e-01   \n",
              "max                      3.179668e+00   \n",
              "\n",
              "       Standard deviation of the integrated profile  \\\n",
              "count                                  1.431800e+04   \n",
              "mean                                   7.143639e-16   \n",
              "std                                    1.000035e+00   \n",
              "min                                   -3.185842e+00   \n",
              "25%                                   -6.119263e-01   \n",
              "50%                                    5.848197e-02   \n",
              "75%                                    6.515878e-01   \n",
              "max                                    7.645531e+00   \n",
              "\n",
              "       Excess kurtosis of the integrated profile  \\\n",
              "count                               1.431800e+04   \n",
              "mean                                2.431666e-17   \n",
              "std                                 1.000035e+00   \n",
              "min                                -2.217175e+00   \n",
              "25%                                -4.253022e-01   \n",
              "50%                                -2.395366e-01   \n",
              "75%                                -5.006169e-03   \n",
              "max                                 7.151513e+00   \n",
              "\n",
              "       Skewness of the integrated profile  Mean of the DM-SNR curve  \\\n",
              "count                        1.431800e+04              1.431800e+04   \n",
              "mean                        -2.431666e-17              3.176054e-17   \n",
              "std                          1.000035e+00              1.000035e+00   \n",
              "min                         -5.785606e-01             -4.199079e-01   \n",
              "25%                         -3.178782e-01             -3.624010e-01   \n",
              "50%                         -2.544987e-01             -3.325460e-01   \n",
              "75%                         -1.359962e-01             -2.436730e-01   \n",
              "max                          1.078746e+01              7.119315e+00   \n",
              "\n",
              "       Standard deviation of the DM-SNR curve  \\\n",
              "count                            1.431800e+04   \n",
              "mean                             2.828673e-17   \n",
              "std                              1.000035e+00   \n",
              "min                             -9.694685e-01   \n",
              "25%                             -6.084102e-01   \n",
              "50%                             -4.017452e-01   \n",
              "75%                              1.018200e-01   \n",
              "max                              4.326040e+00   \n",
              "\n",
              "       Excess kurtosis of the DM-SNR curve  Skewness of the DM-SNR curve  \n",
              "count                         1.431800e+04                  1.431800e+04  \n",
              "mean                         -3.674793e-16                 -1.523513e-16  \n",
              "std                           1.000035e+00                  1.000035e+00  \n",
              "min                          -2.530626e+00                 -9.974420e-01  \n",
              "25%                          -5.585661e-01                 -6.521247e-01  \n",
              "50%                           2.328398e-02                 -2.086906e-01  \n",
              "75%                           5.284156e-01                  3.188089e-01  \n",
              "max                           5.784920e+00                  1.006298e+01  "
            ],
            "text/html": [
              "\n",
              "  <div id=\"df-6fa23b66-2768-4868-a960-2ee853c892e9\">\n",
              "    <div class=\"colab-df-container\">\n",
              "      <div>\n",
              "<style scoped>\n",
              "    .dataframe tbody tr th:only-of-type {\n",
              "        vertical-align: middle;\n",
              "    }\n",
              "\n",
              "    .dataframe tbody tr th {\n",
              "        vertical-align: top;\n",
              "    }\n",
              "\n",
              "    .dataframe thead tr th {\n",
              "        text-align: left;\n",
              "    }\n",
              "</style>\n",
              "<table border=\"1\" class=\"dataframe\">\n",
              "  <thead>\n",
              "    <tr>\n",
              "      <th></th>\n",
              "      <th>Mean of the integrated profile</th>\n",
              "      <th>Standard deviation of the integrated profile</th>\n",
              "      <th>Excess kurtosis of the integrated profile</th>\n",
              "      <th>Skewness of the integrated profile</th>\n",
              "      <th>Mean of the DM-SNR curve</th>\n",
              "      <th>Standard deviation of the DM-SNR curve</th>\n",
              "      <th>Excess kurtosis of the DM-SNR curve</th>\n",
              "      <th>Skewness of the DM-SNR curve</th>\n",
              "    </tr>\n",
              "  </thead>\n",
              "  <tbody>\n",
              "    <tr>\n",
              "      <th>count</th>\n",
              "      <td>1.431800e+04</td>\n",
              "      <td>1.431800e+04</td>\n",
              "      <td>1.431800e+04</td>\n",
              "      <td>1.431800e+04</td>\n",
              "      <td>1.431800e+04</td>\n",
              "      <td>1.431800e+04</td>\n",
              "      <td>1.431800e+04</td>\n",
              "      <td>1.431800e+04</td>\n",
              "    </tr>\n",
              "    <tr>\n",
              "      <th>mean</th>\n",
              "      <td>-8.833399e-17</td>\n",
              "      <td>7.143639e-16</td>\n",
              "      <td>2.431666e-17</td>\n",
              "      <td>-2.431666e-17</td>\n",
              "      <td>3.176054e-17</td>\n",
              "      <td>2.828673e-17</td>\n",
              "      <td>-3.674793e-16</td>\n",
              "      <td>-1.523513e-16</td>\n",
              "    </tr>\n",
              "    <tr>\n",
              "      <th>std</th>\n",
              "      <td>1.000035e+00</td>\n",
              "      <td>1.000035e+00</td>\n",
              "      <td>1.000035e+00</td>\n",
              "      <td>1.000035e+00</td>\n",
              "      <td>1.000035e+00</td>\n",
              "      <td>1.000035e+00</td>\n",
              "      <td>1.000035e+00</td>\n",
              "      <td>1.000035e+00</td>\n",
              "    </tr>\n",
              "    <tr>\n",
              "      <th>min</th>\n",
              "      <td>-4.105247e+00</td>\n",
              "      <td>-3.185842e+00</td>\n",
              "      <td>-2.217175e+00</td>\n",
              "      <td>-5.785606e-01</td>\n",
              "      <td>-4.199079e-01</td>\n",
              "      <td>-9.694685e-01</td>\n",
              "      <td>-2.530626e+00</td>\n",
              "      <td>-9.974420e-01</td>\n",
              "    </tr>\n",
              "    <tr>\n",
              "      <th>25%</th>\n",
              "      <td>-4.007893e-01</td>\n",
              "      <td>-6.119263e-01</td>\n",
              "      <td>-4.253022e-01</td>\n",
              "      <td>-3.178782e-01</td>\n",
              "      <td>-3.624010e-01</td>\n",
              "      <td>-6.084102e-01</td>\n",
              "      <td>-5.585661e-01</td>\n",
              "      <td>-6.521247e-01</td>\n",
              "    </tr>\n",
              "    <tr>\n",
              "      <th>50%</th>\n",
              "      <td>1.599521e-01</td>\n",
              "      <td>5.848197e-02</td>\n",
              "      <td>-2.395366e-01</td>\n",
              "      <td>-2.544987e-01</td>\n",
              "      <td>-3.325460e-01</td>\n",
              "      <td>-4.017452e-01</td>\n",
              "      <td>2.328398e-02</td>\n",
              "      <td>-2.086906e-01</td>\n",
              "    </tr>\n",
              "    <tr>\n",
              "      <th>75%</th>\n",
              "      <td>6.233520e-01</td>\n",
              "      <td>6.515878e-01</td>\n",
              "      <td>-5.006169e-03</td>\n",
              "      <td>-1.359962e-01</td>\n",
              "      <td>-2.436730e-01</td>\n",
              "      <td>1.018200e-01</td>\n",
              "      <td>5.284156e-01</td>\n",
              "      <td>3.188089e-01</td>\n",
              "    </tr>\n",
              "    <tr>\n",
              "      <th>max</th>\n",
              "      <td>3.179668e+00</td>\n",
              "      <td>7.645531e+00</td>\n",
              "      <td>7.151513e+00</td>\n",
              "      <td>1.078746e+01</td>\n",
              "      <td>7.119315e+00</td>\n",
              "      <td>4.326040e+00</td>\n",
              "      <td>5.784920e+00</td>\n",
              "      <td>1.006298e+01</td>\n",
              "    </tr>\n",
              "  </tbody>\n",
              "</table>\n",
              "</div>\n",
              "      <button class=\"colab-df-convert\" onclick=\"convertToInteractive('df-6fa23b66-2768-4868-a960-2ee853c892e9')\"\n",
              "              title=\"Convert this dataframe to an interactive table.\"\n",
              "              style=\"display:none;\">\n",
              "        \n",
              "  <svg xmlns=\"http://www.w3.org/2000/svg\" height=\"24px\"viewBox=\"0 0 24 24\"\n",
              "       width=\"24px\">\n",
              "    <path d=\"M0 0h24v24H0V0z\" fill=\"none\"/>\n",
              "    <path d=\"M18.56 5.44l.94 2.06.94-2.06 2.06-.94-2.06-.94-.94-2.06-.94 2.06-2.06.94zm-11 1L8.5 8.5l.94-2.06 2.06-.94-2.06-.94L8.5 2.5l-.94 2.06-2.06.94zm10 10l.94 2.06.94-2.06 2.06-.94-2.06-.94-.94-2.06-.94 2.06-2.06.94z\"/><path d=\"M17.41 7.96l-1.37-1.37c-.4-.4-.92-.59-1.43-.59-.52 0-1.04.2-1.43.59L10.3 9.45l-7.72 7.72c-.78.78-.78 2.05 0 2.83L4 21.41c.39.39.9.59 1.41.59.51 0 1.02-.2 1.41-.59l7.78-7.78 2.81-2.81c.8-.78.8-2.07 0-2.86zM5.41 20L4 18.59l7.72-7.72 1.47 1.35L5.41 20z\"/>\n",
              "  </svg>\n",
              "      </button>\n",
              "      \n",
              "  <style>\n",
              "    .colab-df-container {\n",
              "      display:flex;\n",
              "      flex-wrap:wrap;\n",
              "      gap: 12px;\n",
              "    }\n",
              "\n",
              "    .colab-df-convert {\n",
              "      background-color: #E8F0FE;\n",
              "      border: none;\n",
              "      border-radius: 50%;\n",
              "      cursor: pointer;\n",
              "      display: none;\n",
              "      fill: #1967D2;\n",
              "      height: 32px;\n",
              "      padding: 0 0 0 0;\n",
              "      width: 32px;\n",
              "    }\n",
              "\n",
              "    .colab-df-convert:hover {\n",
              "      background-color: #E2EBFA;\n",
              "      box-shadow: 0px 1px 2px rgba(60, 64, 67, 0.3), 0px 1px 3px 1px rgba(60, 64, 67, 0.15);\n",
              "      fill: #174EA6;\n",
              "    }\n",
              "\n",
              "    [theme=dark] .colab-df-convert {\n",
              "      background-color: #3B4455;\n",
              "      fill: #D2E3FC;\n",
              "    }\n",
              "\n",
              "    [theme=dark] .colab-df-convert:hover {\n",
              "      background-color: #434B5C;\n",
              "      box-shadow: 0px 1px 3px 1px rgba(0, 0, 0, 0.15);\n",
              "      filter: drop-shadow(0px 1px 2px rgba(0, 0, 0, 0.3));\n",
              "      fill: #FFFFFF;\n",
              "    }\n",
              "  </style>\n",
              "\n",
              "      <script>\n",
              "        const buttonEl =\n",
              "          document.querySelector('#df-6fa23b66-2768-4868-a960-2ee853c892e9 button.colab-df-convert');\n",
              "        buttonEl.style.display =\n",
              "          google.colab.kernel.accessAllowed ? 'block' : 'none';\n",
              "\n",
              "        async function convertToInteractive(key) {\n",
              "          const element = document.querySelector('#df-6fa23b66-2768-4868-a960-2ee853c892e9');\n",
              "          const dataTable =\n",
              "            await google.colab.kernel.invokeFunction('convertToInteractive',\n",
              "                                                     [key], {});\n",
              "          if (!dataTable) return;\n",
              "\n",
              "          const docLinkHtml = 'Like what you see? Visit the ' +\n",
              "            '<a target=\"_blank\" href=https://colab.research.google.com/notebooks/data_table.ipynb>data table notebook</a>'\n",
              "            + ' to learn more about interactive tables.';\n",
              "          element.innerHTML = '';\n",
              "          dataTable['output_type'] = 'display_data';\n",
              "          await google.colab.output.renderOutput(dataTable, element);\n",
              "          const docLink = document.createElement('div');\n",
              "          docLink.innerHTML = docLinkHtml;\n",
              "          element.appendChild(docLink);\n",
              "        }\n",
              "      </script>\n",
              "    </div>\n",
              "  </div>\n",
              "  "
            ]
          },
          "metadata": {},
          "execution_count": 23
        }
      ],
      "source": [
        "# guardamos cuales son las columnas para posteriormente crear un dataframe\n",
        "cols = X_train.columns\n",
        "\n",
        "# Escalamos los datos\n",
        "scaler = StandardScaler()\n",
        "X_train = scaler.fit_transform(X_train)\n",
        "X_test = scaler.transform(X_test)\n",
        "\n",
        "# Creamos el dataframe con los datos de entrenamiento\n",
        "X_train = pd.DataFrame(X_train, columns=[cols])\n",
        "X_test = pd.DataFrame(X_test, columns=[cols])\n",
        "X_train.describe()"
      ]
    },
    {
      "cell_type": "markdown",
      "metadata": {
        "id": "AxzZuF1FKGps"
      },
      "source": [
        "5. Utilizar el dataset de entrenamiento para entrenar el clasificador\n"
      ]
    },
    {
      "cell_type": "code",
      "execution_count": 24,
      "metadata": {
        "colab": {
          "base_uri": "https://localhost:8080/",
          "height": 75
        },
        "id": "p4UBy9urKNvy",
        "outputId": "386016c0-1992-4a85-edd7-19a091f6c45e"
      },
      "outputs": [
        {
          "output_type": "execute_result",
          "data": {
            "text/plain": [
              "SVC()"
            ],
            "text/html": [
              "<style>#sk-container-id-2 {color: black;background-color: white;}#sk-container-id-2 pre{padding: 0;}#sk-container-id-2 div.sk-toggleable {background-color: white;}#sk-container-id-2 label.sk-toggleable__label {cursor: pointer;display: block;width: 100%;margin-bottom: 0;padding: 0.3em;box-sizing: border-box;text-align: center;}#sk-container-id-2 label.sk-toggleable__label-arrow:before {content: \"▸\";float: left;margin-right: 0.25em;color: #696969;}#sk-container-id-2 label.sk-toggleable__label-arrow:hover:before {color: black;}#sk-container-id-2 div.sk-estimator:hover label.sk-toggleable__label-arrow:before {color: black;}#sk-container-id-2 div.sk-toggleable__content {max-height: 0;max-width: 0;overflow: hidden;text-align: left;background-color: #f0f8ff;}#sk-container-id-2 div.sk-toggleable__content pre {margin: 0.2em;color: black;border-radius: 0.25em;background-color: #f0f8ff;}#sk-container-id-2 input.sk-toggleable__control:checked~div.sk-toggleable__content {max-height: 200px;max-width: 100%;overflow: auto;}#sk-container-id-2 input.sk-toggleable__control:checked~label.sk-toggleable__label-arrow:before {content: \"▾\";}#sk-container-id-2 div.sk-estimator input.sk-toggleable__control:checked~label.sk-toggleable__label {background-color: #d4ebff;}#sk-container-id-2 div.sk-label input.sk-toggleable__control:checked~label.sk-toggleable__label {background-color: #d4ebff;}#sk-container-id-2 input.sk-hidden--visually {border: 0;clip: rect(1px 1px 1px 1px);clip: rect(1px, 1px, 1px, 1px);height: 1px;margin: -1px;overflow: hidden;padding: 0;position: absolute;width: 1px;}#sk-container-id-2 div.sk-estimator {font-family: monospace;background-color: #f0f8ff;border: 1px dotted black;border-radius: 0.25em;box-sizing: border-box;margin-bottom: 0.5em;}#sk-container-id-2 div.sk-estimator:hover {background-color: #d4ebff;}#sk-container-id-2 div.sk-parallel-item::after {content: \"\";width: 100%;border-bottom: 1px solid gray;flex-grow: 1;}#sk-container-id-2 div.sk-label:hover label.sk-toggleable__label {background-color: #d4ebff;}#sk-container-id-2 div.sk-serial::before {content: \"\";position: absolute;border-left: 1px solid gray;box-sizing: border-box;top: 0;bottom: 0;left: 50%;z-index: 0;}#sk-container-id-2 div.sk-serial {display: flex;flex-direction: column;align-items: center;background-color: white;padding-right: 0.2em;padding-left: 0.2em;position: relative;}#sk-container-id-2 div.sk-item {position: relative;z-index: 1;}#sk-container-id-2 div.sk-parallel {display: flex;align-items: stretch;justify-content: center;background-color: white;position: relative;}#sk-container-id-2 div.sk-item::before, #sk-container-id-2 div.sk-parallel-item::before {content: \"\";position: absolute;border-left: 1px solid gray;box-sizing: border-box;top: 0;bottom: 0;left: 50%;z-index: -1;}#sk-container-id-2 div.sk-parallel-item {display: flex;flex-direction: column;z-index: 1;position: relative;background-color: white;}#sk-container-id-2 div.sk-parallel-item:first-child::after {align-self: flex-end;width: 50%;}#sk-container-id-2 div.sk-parallel-item:last-child::after {align-self: flex-start;width: 50%;}#sk-container-id-2 div.sk-parallel-item:only-child::after {width: 0;}#sk-container-id-2 div.sk-dashed-wrapped {border: 1px dashed gray;margin: 0 0.4em 0.5em 0.4em;box-sizing: border-box;padding-bottom: 0.4em;background-color: white;}#sk-container-id-2 div.sk-label label {font-family: monospace;font-weight: bold;display: inline-block;line-height: 1.2em;}#sk-container-id-2 div.sk-label-container {text-align: center;}#sk-container-id-2 div.sk-container {/* jupyter's `normalize.less` sets `[hidden] { display: none; }` but bootstrap.min.css set `[hidden] { display: none !important; }` so we also need the `!important` here to be able to override the default hidden behavior on the sphinx rendered scikit-learn.org. See: https://github.com/scikit-learn/scikit-learn/issues/21755 */display: inline-block !important;position: relative;}#sk-container-id-2 div.sk-text-repr-fallback {display: none;}</style><div id=\"sk-container-id-2\" class=\"sk-top-container\"><div class=\"sk-text-repr-fallback\"><pre>SVC()</pre><b>In a Jupyter environment, please rerun this cell to show the HTML representation or trust the notebook. <br />On GitHub, the HTML representation is unable to render, please try loading this page with nbviewer.org.</b></div><div class=\"sk-container\" hidden><div class=\"sk-item\"><div class=\"sk-estimator sk-toggleable\"><input class=\"sk-toggleable__control sk-hidden--visually\" id=\"sk-estimator-id-2\" type=\"checkbox\" checked><label for=\"sk-estimator-id-2\" class=\"sk-toggleable__label sk-toggleable__label-arrow\">SVC</label><div class=\"sk-toggleable__content\"><pre>SVC()</pre></div></div></div></div></div>"
            ]
          },
          "metadata": {},
          "execution_count": 24
        }
      ],
      "source": [
        "# Creamos el modelo de clasificación SVM\n",
        "svm_classifier = SVC()\n",
        "\n",
        "#Entrenamos el clasificador\n",
        "svm_classifier.fit(X_train, y_train)"
      ]
    },
    {
      "cell_type": "markdown",
      "metadata": {
        "id": "H0pwAiooKkuD"
      },
      "source": [
        "6. Realizar las pruebas con el conjunto que separaron."
      ]
    },
    {
      "cell_type": "code",
      "execution_count": 25,
      "metadata": {
        "id": "TwdaVTi2KhWU"
      },
      "outputs": [],
      "source": [
        "# Hacemos las predicciones con el set de pruebas\n",
        "y_pred = svm_classifier.predict(X_test)"
      ]
    },
    {
      "cell_type": "markdown",
      "metadata": {
        "id": "4pGXm77QLEiE"
      },
      "source": [
        "7. Desplegar la precisión que con los parámetros y función de kernel con la que lograron una mejor predicción general."
      ]
    },
    {
      "cell_type": "code",
      "execution_count": 26,
      "metadata": {
        "colab": {
          "base_uri": "https://localhost:8080/"
        },
        "id": "vvf4RPKrLJO8",
        "outputId": "ebb2ea17-1272-44a2-8d25-6999fd0898c8"
      },
      "outputs": [
        {
          "output_type": "stream",
          "name": "stdout",
          "text": [
            "Precisión del modelo con kernel=linear y C=1.0 0.9796\n",
            "Precisión del modelo con kernel=rbf, C=50.0 y gamma=1: 0.9802\n",
            "Precisión del modelo con kernel=poly, C=3.0 y gamma=auto: 0.9740\n",
            "Precisión del modelo con kernel=sigmoid, C=100 y gamma=2: 0.8363\n"
          ]
        }
      ],
      "source": [
        "# Imprime la precisión.\n",
        "print('Precisión del modelo con kernel=linear y C=1.0 {0:0.4f}'.format(accuracy_score(y_test, y_pred)))\n",
        "\n",
        "# -----------------------------------------------------------------------------\n",
        "# Creamos otro modelo de clasificación SVM\n",
        "svm_classifier = SVC(kernel='rbf', C=50.0, gamma=1)\n",
        "\n",
        "#Entrenamos el clasificador\n",
        "svm_classifier.fit(X_train, y_train)\n",
        "y_pred = svm_classifier.predict(X_test)\n",
        "# Imprime la precisión.\n",
        "print('Precisión del modelo con kernel=rbf, C=50.0 y gamma=1: {0:0.4f}'.format(accuracy_score(y_test, y_pred)))\n",
        "\n",
        "# -----------------------------------------------------------------------------\n",
        "\n",
        "svm_classifier = SVC(kernel='poly', C=3.0, gamma=\"auto\", degree=2)\n",
        "#Entrenamos el clasificador\n",
        "svm_classifier.fit(X_train, y_train)\n",
        "y_pred = svm_classifier.predict(X_test)\n",
        "# Imprime la precisión.\n",
        "print('Precisión del modelo con kernel=poly, C=3.0 y gamma=auto: {0:0.4f}'.format(accuracy_score(y_test, y_pred)))\n",
        "\n",
        "# -----------------------------------------------------------------------------\n",
        "\n",
        "svm_classifier = SVC(kernel='sigmoid', C=100.0, gamma=2, coef0=0)\n",
        "#Entrenamos el clasificador\n",
        "svm_classifier.fit(X_train, y_train)\n",
        "y_pred = svm_classifier.predict(X_test)\n",
        "# Imprime la precisión.\n",
        "print('Precisión del modelo con kernel=sigmoid, C=100 y gamma=2: {0:0.4f}'.format(accuracy_score(y_test, y_pred)))\n",
        "\n"
      ]
    },
    {
      "cell_type": "markdown",
      "metadata": {
        "id": "n6bB6DHwLKNk"
      },
      "source": [
        "8. Para cada punto anterior, separan el código con una explicación de lo realizado y aprendido en el apartado. "
      ]
    },
    {
      "cell_type": "markdown",
      "source": [
        "Aquí explicamos lo que se realizó en cada paso:\n",
        "*   Paso 1: \n",
        "Seleccionamos el dataset, realizamos los imports necesarios y cargamos los datos en un DateFrame. Seleccionamos el dataset del siguiente link: https://www.kaggle.com/code/prashant111/svm-classifier-tutorial.  \n",
        "\n",
        "\n",
        "*   Paso 2: \n",
        "Realizamos el preprocesamiento de datos. Aquí primero convertimos los valores de entrenamiento del target class en un array para poder graficarlos. Por lo que en la variable X asignamos todas las características que no son el target classy en Y asignamos los valores del target class.\n",
        "\n",
        "\n",
        "*    Paso 3:\n",
        "Creamos los conjuntos de prueba t de testing a partir de lso valores que contienen las variables X e Y. La función train_test_split genera 4 sets de valroes que se utilizan para realizar el entrenamento y las pruebas. Los sets de prueba tienen un test_size del 0.2 por lo que el conjunto es del 20% del tamaño del dataset original.\n",
        "\n",
        "*    Paso 4:\n",
        "Para esto primero escalamos los datos usando un objeto StandardScaler y con los datos esscalados creamos los dataframes que se utilizará para entrenar el clasificador.\n",
        "\n",
        "*   Paso 5: \n",
        "Entrenamos el svm_classifier con los datos de entrenamiento escalados que creamos en el paso 4.\n",
        "\n",
        "*   Paso 6 y 7:\n",
        "Aquí realizamos predicciones con el clasificador para ver cual kernel nos da mejores resultados. Vemos que con nuestro dataset el kernel rbf con un valor c=50 y gamma=1 nos da la mayor precisión comparando con los otros kernels."
      ],
      "metadata": {
        "id": "A6L6TNgJE30l"
      }
    },
    {
      "cell_type": "markdown",
      "metadata": {
        "id": "BVLj7L61acbn"
      },
      "source": [
        "###Explicación / Conclusiones del apartado\n",
        "\n",
        "En este laboratorio aprendimos a construir y utilizar máquinas de soporte vectorial las cuales nos permiten hacer un proceso de clasificación y predicción de datos basado en regresiones lineales. Estas máquinas encuentran un hiperplano en un espacio de características de alta dimensionalidad que permite separar o predecir los datos de manera óptima. Este algoritmo es capaz de manejar de forma eficiente conjuntos de datos que presentn mucho \"ruido\".   <br>\n",
        "\n",
        "Esta técnica es útil con conjuntos de datos relativamente pequeños porque el proceso tiene una alta complejidad la cual se vuelve muy ineficiente en conjuntos de datos grandes. En la práctica este algoritmo de machine learning no es muy utilizado por la gran cantidad de datos que se manejan.\n",
        "<br>\n",
        "\n",
        "El algoritmo requiere de un entrenamiento previo para poder realizar las predicciones. Para esto se crean datasets de entrenamiento y de testing que tienen etiquetas (es decir que están asociadas a una clase) lo que nos indica que se trata de un algoritmo de machine learning supervisado. La librería sklearn.svm nos permite trabajar con diferentes kernels para poder realizar diferentes hiperplanos. Tales kernels son los siguientes:\n",
        "\n",
        "*   Lineal: permite crear hiperplanos lineales para clasificar los datos. Este es útil cuando los datos tienen una clara distinción y cuando no existen clases de datos dentro de otras clases.  \n",
        "*   Poly: permite crear hiperplanos con polinomios, es decir que se generan curvas las cuales permiten hacer clasificaciones más complejas y precisas según la dispersión de los datos. \n",
        "*   Sigmoid: es utilizado en redes neuronales y reliza hiperplanos creados a partir de tangentes \n",
        "*   Rbf: permite realizar clasificacions de datos que se encuntran incluidos dentro de otra clase. Además es de los más utilizados porque permiten manejar datos no lineales.  \n",
        "\n",
        "Estas funciones utilizan varios párametros y en este lab usamos los siguientes:  \n",
        "\n",
        "\n",
        "| Párametro | Description | Kernels |\n",
        "| --- | --- | --- |\n",
        "| C | Factor de regularización. Más estricto o más general | Todos |\n",
        "| Degree | Grado del polinimio del hiperplano | Poly |\n",
        "| Gamma | Más estricto o más suave | Rbf, Sigmoid, Poly |\n",
        "| Coef0 | Constante independiente | Poly, Sigmoid |\n",
        "\n",
        "\n",
        "En nuestro caso utilizamos un dataset que contiene mucho ruido para ver que el algorimto si se adapta bien a esta condición. Al realizar la clasificación y la predicción con los diferentes kernels, vimos que el más eficiente es el rbf con un valor de C=50. La precisión que nos dio este kernel es del 0.9802 lo que indica que en este dataset el clasificador es muy eficaz. "
      ]
    }
  ],
  "metadata": {
    "colab": {
      "provenance": [],
      "toc_visible": true
    },
    "kernelspec": {
      "display_name": "Python 3",
      "name": "python3"
    },
    "language_info": {
      "name": "python"
    }
  },
  "nbformat": 4,
  "nbformat_minor": 0
}
